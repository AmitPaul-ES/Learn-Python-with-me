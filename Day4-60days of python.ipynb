{
 "cells": [
  {
   "cell_type": "code",
   "execution_count": 1,
   "id": "ac58b9ed-2510-4f3f-a513-7d1165e70167",
   "metadata": {},
   "outputs": [
    {
     "data": {
      "text/plain": [
       "'All About Data Types In Python'"
      ]
     },
     "execution_count": 1,
     "metadata": {},
     "output_type": "execute_result"
    }
   ],
   "source": [
    "data = \"all about data types in python\"\n",
    "data.title()"
   ]
  },
  {
   "cell_type": "code",
   "execution_count": 3,
   "id": "dced6238-055e-4738-9045-5e94bcd45a9f",
   "metadata": {},
   "outputs": [
    {
     "data": {
      "text/plain": [
       "'          all about data types in python          '"
      ]
     },
     "execution_count": 3,
     "metadata": {},
     "output_type": "execute_result"
    }
   ],
   "source": [
    "data.center(50)"
   ]
  },
  {
   "cell_type": "markdown",
   "id": "db4691d8-3e53-433a-9a74-099ddd72740b",
   "metadata": {},
   "source": [
    "All About Data Types In Python"
   ]
  },
  {
   "cell_type": "code",
   "execution_count": 5,
   "id": "56a9201c-3bc4-4978-bf8a-426c56428f5b",
   "metadata": {},
   "outputs": [],
   "source": [
    "#numeric data\n",
    "\n",
    "x = 10 #int\n",
    "y = 10.5 #float\n",
    "z = 10+5j #complex [here 10 is real number and the 5j is the imaginery part]"
   ]
  },
  {
   "cell_type": "code",
   "execution_count": 6,
   "id": "50ea4652-1391-4181-9ce2-015cdae2f3ba",
   "metadata": {},
   "outputs": [
    {
     "data": {
      "text/plain": [
       "complex"
      ]
     },
     "execution_count": 6,
     "metadata": {},
     "output_type": "execute_result"
    }
   ],
   "source": [
    "type(z)"
   ]
  },
  {
   "cell_type": "code",
   "execution_count": 7,
   "id": "70a96f8a-eedc-47a8-8e9b-5662f37305f2",
   "metadata": {},
   "outputs": [
    {
     "data": {
      "text/plain": [
       "32"
      ]
     },
     "execution_count": 7,
     "metadata": {},
     "output_type": "execute_result"
    }
   ],
   "source": [
    "import sys\n",
    "sys.getsizeof(z)"
   ]
  },
  {
   "cell_type": "code",
   "execution_count": 8,
   "id": "75a9bddf-10a2-4c74-b047-817b3d65e271",
   "metadata": {},
   "outputs": [
    {
     "data": {
      "text/plain": [
       "24"
      ]
     },
     "execution_count": 8,
     "metadata": {},
     "output_type": "execute_result"
    }
   ],
   "source": [
    "sys.getsizeof(y)"
   ]
  },
  {
   "cell_type": "code",
   "execution_count": 9,
   "id": "62965997-8c6b-4ac1-b719-f9e91aa026eb",
   "metadata": {},
   "outputs": [
    {
     "data": {
      "text/plain": [
       "28"
      ]
     },
     "execution_count": 9,
     "metadata": {},
     "output_type": "execute_result"
    }
   ],
   "source": [
    "sys.getsizeof(x)"
   ]
  },
  {
   "cell_type": "code",
   "execution_count": 10,
   "id": "0ac644f2-b809-4b68-b3c1-a458d3d417f5",
   "metadata": {},
   "outputs": [
    {
     "data": {
      "text/plain": [
       "True"
      ]
     },
     "execution_count": 10,
     "metadata": {},
     "output_type": "execute_result"
    }
   ],
   "source": [
    "isinstance(x, int) #to find out the data types"
   ]
  },
  {
   "cell_type": "code",
   "execution_count": 11,
   "id": "44598f9a-0291-436b-a0a7-2b20c8b7ed7f",
   "metadata": {},
   "outputs": [
    {
     "data": {
      "text/plain": [
       "False"
      ]
     },
     "execution_count": 11,
     "metadata": {},
     "output_type": "execute_result"
    }
   ],
   "source": [
    "isinstance(z, float)"
   ]
  },
  {
   "cell_type": "code",
   "execution_count": 12,
   "id": "030a2a3e-0a5d-4e7b-9ba3-16b1eb2602bf",
   "metadata": {},
   "outputs": [
    {
     "data": {
      "text/plain": [
       "False"
      ]
     },
     "execution_count": 12,
     "metadata": {},
     "output_type": "execute_result"
    }
   ],
   "source": [
    "isinstance(10,float)"
   ]
  },
  {
   "cell_type": "code",
   "execution_count": 13,
   "id": "3333cebb-ebae-401b-be7e-54a0901f5928",
   "metadata": {},
   "outputs": [
    {
     "data": {
      "text/plain": [
       "int"
      ]
     },
     "execution_count": 13,
     "metadata": {},
     "output_type": "execute_result"
    }
   ],
   "source": [
    "type(10)"
   ]
  },
  {
   "cell_type": "code",
   "execution_count": 14,
   "id": "5fb64850-c31d-4330-ba31-3f31b9e57391",
   "metadata": {},
   "outputs": [],
   "source": [
    "#int to float\n",
    "n = float(x)"
   ]
  },
  {
   "cell_type": "code",
   "execution_count": 15,
   "id": "0d71c83e-2d83-495e-9770-53d41f8e1004",
   "metadata": {},
   "outputs": [
    {
     "data": {
      "text/plain": [
       "float"
      ]
     },
     "execution_count": 15,
     "metadata": {},
     "output_type": "execute_result"
    }
   ],
   "source": [
    "type(n)"
   ]
  },
  {
   "cell_type": "code",
   "execution_count": 16,
   "id": "58230296-e09d-40a0-b5c4-0e5c34cbfd37",
   "metadata": {},
   "outputs": [
    {
     "data": {
      "text/plain": [
       "10.0"
      ]
     },
     "execution_count": 16,
     "metadata": {},
     "output_type": "execute_result"
    }
   ],
   "source": [
    "n"
   ]
  },
  {
   "cell_type": "code",
   "execution_count": 17,
   "id": "66182e2c-5b7d-4128-8d12-19f4f0a9d940",
   "metadata": {},
   "outputs": [],
   "source": [
    "n = complex(x) #int to complex"
   ]
  },
  {
   "cell_type": "code",
   "execution_count": 18,
   "id": "ec172fa3-1ce2-42e3-b0b0-c3c65eca4345",
   "metadata": {},
   "outputs": [
    {
     "data": {
      "text/plain": [
       "(10+0j)"
      ]
     },
     "execution_count": 18,
     "metadata": {},
     "output_type": "execute_result"
    }
   ],
   "source": [
    "n"
   ]
  },
  {
   "cell_type": "code",
   "execution_count": 19,
   "id": "251991ee-2725-4df8-b349-22646d9e3068",
   "metadata": {},
   "outputs": [
    {
     "data": {
      "text/plain": [
       "complex"
      ]
     },
     "execution_count": 19,
     "metadata": {},
     "output_type": "execute_result"
    }
   ],
   "source": [
    "type(n)"
   ]
  },
  {
   "cell_type": "code",
   "execution_count": 20,
   "id": "0e05a231-2ab4-4c10-81d2-fdef28cbf963",
   "metadata": {},
   "outputs": [
    {
     "ename": "TypeError",
     "evalue": "int() argument must be a string, a bytes-like object or a real number, not 'complex'",
     "output_type": "error",
     "traceback": [
      "\u001b[31m---------------------------------------------------------------------------\u001b[39m",
      "\u001b[31mTypeError\u001b[39m                                 Traceback (most recent call last)",
      "\u001b[36mCell\u001b[39m\u001b[36m \u001b[39m\u001b[32mIn[20]\u001b[39m\u001b[32m, line 1\u001b[39m\n\u001b[32m----> \u001b[39m\u001b[32m1\u001b[39m n = \u001b[38;5;28;43mint\u001b[39;49m\u001b[43m(\u001b[49m\u001b[43mz\u001b[49m\u001b[43m)\u001b[49m\n",
      "\u001b[31mTypeError\u001b[39m: int() argument must be a string, a bytes-like object or a real number, not 'complex'"
     ]
    }
   ],
   "source": [
    "n = int(z) #its not possible to convert the complex number into a int or float."
   ]
  },
  {
   "cell_type": "code",
   "execution_count": 21,
   "id": "dba879dc-3899-4322-a4f2-e4ac8c03f31d",
   "metadata": {},
   "outputs": [
    {
     "ename": "TypeError",
     "evalue": "float() argument must be a string or a real number, not 'complex'",
     "output_type": "error",
     "traceback": [
      "\u001b[31m---------------------------------------------------------------------------\u001b[39m",
      "\u001b[31mTypeError\u001b[39m                                 Traceback (most recent call last)",
      "\u001b[36mCell\u001b[39m\u001b[36m \u001b[39m\u001b[32mIn[21]\u001b[39m\u001b[32m, line 1\u001b[39m\n\u001b[32m----> \u001b[39m\u001b[32m1\u001b[39m n = \u001b[38;5;28;43mfloat\u001b[39;49m\u001b[43m(\u001b[49m\u001b[43mz\u001b[49m\u001b[43m)\u001b[49m\n",
      "\u001b[31mTypeError\u001b[39m: float() argument must be a string or a real number, not 'complex'"
     ]
    }
   ],
   "source": [
    "n = float(z)"
   ]
  },
  {
   "cell_type": "code",
   "execution_count": 25,
   "id": "22e09de9-1fdc-4a67-82c7-f608a5286fcb",
   "metadata": {},
   "outputs": [
    {
     "name": "stdin",
     "output_type": "stream",
     "text": [
      "Enter a complex number:  5+0j\n"
     ]
    },
    {
     "name": "stdout",
     "output_type": "stream",
     "text": [
      "the complex number is (5+0j)\n"
     ]
    }
   ],
   "source": [
    "num = complex(input(\"Enter a complex number: \"))\n",
    "print(\"the complex number is\", num)"
   ]
  },
  {
   "cell_type": "code",
   "execution_count": 26,
   "id": "f25e5a61-942f-4274-aa94-6b26f6d4dd3f",
   "metadata": {},
   "outputs": [
    {
     "data": {
      "text/plain": [
       "complex"
      ]
     },
     "execution_count": 26,
     "metadata": {},
     "output_type": "execute_result"
    }
   ],
   "source": [
    "type(num)"
   ]
  },
  {
   "cell_type": "markdown",
   "id": "cf0a4990-f041-4b41-acc0-d37664bef9e5",
   "metadata": {},
   "source": [
    "Bool"
   ]
  },
  {
   "cell_type": "code",
   "execution_count": 27,
   "id": "b48c0b0b-a7ab-4b10-bf25-57a9eeaa4ca9",
   "metadata": {},
   "outputs": [],
   "source": [
    "x = True # the first letter \"T\" and \"F\" must be in capital case.\n",
    "y = False"
   ]
  },
  {
   "cell_type": "code",
   "execution_count": 28,
   "id": "bb083fa6-2fbd-45d5-bdc5-dae82fe19986",
   "metadata": {},
   "outputs": [
    {
     "data": {
      "text/plain": [
       "True"
      ]
     },
     "execution_count": 28,
     "metadata": {},
     "output_type": "execute_result"
    }
   ],
   "source": [
    "x"
   ]
  },
  {
   "cell_type": "code",
   "execution_count": 29,
   "id": "1019e49b-19e7-4533-b7b5-16de7445c6e8",
   "metadata": {},
   "outputs": [
    {
     "data": {
      "text/plain": [
       "False"
      ]
     },
     "execution_count": 29,
     "metadata": {},
     "output_type": "execute_result"
    }
   ],
   "source": [
    "y"
   ]
  },
  {
   "cell_type": "markdown",
   "id": "b85126d0-996b-4a05-9dc3-5f36146c63cf",
   "metadata": {},
   "source": [
    "Sequence Data"
   ]
  },
  {
   "cell_type": "code",
   "execution_count": 30,
   "id": "ea5d98a4-5cef-463d-9ed4-92aaf11412c2",
   "metadata": {},
   "outputs": [],
   "source": [
    "#list []\n",
    "l = [1,3,6,True,[9,8],'data',(1,2,3,4)] # must use square brackets. Can keep any kinds of data inside a list."
   ]
  },
  {
   "cell_type": "code",
   "execution_count": 31,
   "id": "1151acfe-8202-4c18-b0ea-3804c53f8d7b",
   "metadata": {},
   "outputs": [
    {
     "data": {
      "text/plain": [
       "[1, 3, 6, True, [9, 8], 'data', (1, 2, 3, 4)]"
      ]
     },
     "execution_count": 31,
     "metadata": {},
     "output_type": "execute_result"
    }
   ],
   "source": [
    "l"
   ]
  },
  {
   "cell_type": "code",
   "execution_count": 32,
   "id": "088196d9-3da8-434d-b337-9b20734bf99b",
   "metadata": {},
   "outputs": [
    {
     "data": {
      "text/plain": [
       "1"
      ]
     },
     "execution_count": 32,
     "metadata": {},
     "output_type": "execute_result"
    }
   ],
   "source": [
    "l[0] #list maintains there order thats why it is a sequence type data. we actually finding the index of this list."
   ]
  },
  {
   "cell_type": "code",
   "execution_count": 33,
   "id": "35d751e5-f5b1-4048-b28a-4a57662a54b8",
   "metadata": {},
   "outputs": [
    {
     "data": {
      "text/plain": [
       "(1, 2, 3, 4)"
      ]
     },
     "execution_count": 33,
     "metadata": {},
     "output_type": "execute_result"
    }
   ],
   "source": [
    "l[-1] # negative indexing start from the last of the list. and it starts with '-1'."
   ]
  },
  {
   "cell_type": "code",
   "execution_count": 34,
   "id": "647a7293-2fcc-4a18-b263-28bae41d7174",
   "metadata": {},
   "outputs": [
    {
     "data": {
      "text/plain": [
       "4"
      ]
     },
     "execution_count": 34,
     "metadata": {},
     "output_type": "execute_result"
    }
   ],
   "source": [
    "l[-1][-1] #to access the value inside the tuple we can do this."
   ]
  },
  {
   "cell_type": "code",
   "execution_count": 35,
   "id": "8cbdb0e4-d097-42b3-81dc-1f2d3fcd777e",
   "metadata": {},
   "outputs": [
    {
     "data": {
      "text/plain": [
       "True"
      ]
     },
     "execution_count": 35,
     "metadata": {},
     "output_type": "execute_result"
    }
   ],
   "source": [
    "isinstance(l, list)"
   ]
  },
  {
   "cell_type": "code",
   "execution_count": 36,
   "id": "730a73f7-fa80-46a2-b7cc-b821b6634902",
   "metadata": {},
   "outputs": [
    {
     "data": {
      "text/plain": [
       "list"
      ]
     },
     "execution_count": 36,
     "metadata": {},
     "output_type": "execute_result"
    }
   ],
   "source": [
    "type(l)"
   ]
  },
  {
   "cell_type": "code",
   "execution_count": 37,
   "id": "68f7c898-42ef-403b-a1fd-7b2230e6c041",
   "metadata": {},
   "outputs": [],
   "source": [
    "# tuple()\n",
    "t = (1,3,6,True,[9,8],'data',(1,2,3,4))"
   ]
  },
  {
   "cell_type": "code",
   "execution_count": 38,
   "id": "65b058b6-eb81-4bc3-9c7c-53529a2a7755",
   "metadata": {},
   "outputs": [
    {
     "data": {
      "text/plain": [
       "tuple"
      ]
     },
     "execution_count": 38,
     "metadata": {},
     "output_type": "execute_result"
    }
   ],
   "source": [
    "type(t)"
   ]
  },
  {
   "cell_type": "code",
   "execution_count": 39,
   "id": "850401cf-fd95-4f7a-aa98-f8e34b47421f",
   "metadata": {},
   "outputs": [
    {
     "data": {
      "text/plain": [
       "1"
      ]
     },
     "execution_count": 39,
     "metadata": {},
     "output_type": "execute_result"
    }
   ],
   "source": [
    "t[0]"
   ]
  },
  {
   "cell_type": "code",
   "execution_count": 40,
   "id": "568e6123-3ce6-4357-a316-01540fad8374",
   "metadata": {},
   "outputs": [
    {
     "data": {
      "text/plain": [
       "True"
      ]
     },
     "execution_count": 40,
     "metadata": {},
     "output_type": "execute_result"
    }
   ],
   "source": [
    "t[3]"
   ]
  },
  {
   "cell_type": "code",
   "execution_count": 43,
   "id": "548bd641-5731-4256-958c-78f064a4728c",
   "metadata": {},
   "outputs": [
    {
     "data": {
      "text/plain": [
       "'a'"
      ]
     },
     "execution_count": 43,
     "metadata": {},
     "output_type": "execute_result"
    }
   ],
   "source": [
    "t[5][1]"
   ]
  },
  {
   "cell_type": "code",
   "execution_count": 56,
   "id": "e219d1eb-e8e7-404a-b561-d6bd96965ab5",
   "metadata": {},
   "outputs": [
    {
     "data": {
      "text/plain": [
       "(1, 3, 6, True)"
      ]
     },
     "execution_count": 56,
     "metadata": {},
     "output_type": "execute_result"
    }
   ],
   "source": [
    "t[0:4] # colon means to : here it means o to '4-1'"
   ]
  },
  {
   "cell_type": "code",
   "execution_count": 45,
   "id": "d6d9a66c-daa2-453c-97f9-eeb05ff923c9",
   "metadata": {},
   "outputs": [],
   "source": [
    "z = list(t)"
   ]
  },
  {
   "cell_type": "code",
   "execution_count": 46,
   "id": "b6e4086f-7c02-4500-9af1-db62d7248326",
   "metadata": {},
   "outputs": [
    {
     "data": {
      "text/plain": [
       "[1, 3, 6, True, [9, 8], 'data', (1, 2, 3, 4)]"
      ]
     },
     "execution_count": 46,
     "metadata": {},
     "output_type": "execute_result"
    }
   ],
   "source": [
    "z"
   ]
  },
  {
   "cell_type": "code",
   "execution_count": 47,
   "id": "7e12acb7-2acc-4709-a696-9570c847f2b6",
   "metadata": {},
   "outputs": [],
   "source": [
    "#range\n",
    "x = range(10) #first case"
   ]
  },
  {
   "cell_type": "code",
   "execution_count": 48,
   "id": "ae563f8d-ff0b-4e46-9c30-02f347e2a390",
   "metadata": {},
   "outputs": [
    {
     "data": {
      "text/plain": [
       "range(0, 10)"
      ]
     },
     "execution_count": 48,
     "metadata": {},
     "output_type": "execute_result"
    }
   ],
   "source": [
    "x"
   ]
  },
  {
   "cell_type": "code",
   "execution_count": 49,
   "id": "9db2d2ff-3563-4bb2-999b-428dc095f676",
   "metadata": {},
   "outputs": [
    {
     "name": "stdout",
     "output_type": "stream",
     "text": [
      "0\n",
      "1\n",
      "2\n",
      "3\n",
      "4\n",
      "5\n",
      "6\n",
      "7\n",
      "8\n",
      "9\n"
     ]
    }
   ],
   "source": [
    "for i in x:\n",
    "    print(i)"
   ]
  },
  {
   "cell_type": "code",
   "execution_count": 57,
   "id": "929905c6-2eb9-4ef0-8822-e4fd8592e336",
   "metadata": {},
   "outputs": [
    {
     "name": "stdout",
     "output_type": "stream",
     "text": [
      "2\n",
      "3\n",
      "4\n",
      "5\n",
      "6\n",
      "7\n",
      "8\n",
      "9\n"
     ]
    }
   ],
   "source": [
    "x = range(2,10) #2nd case\n",
    "for i in x:\n",
    "    print(i)"
   ]
  },
  {
   "cell_type": "code",
   "execution_count": 58,
   "id": "f4cd4d2c-065e-4d5e-b3af-0699aa577522",
   "metadata": {},
   "outputs": [
    {
     "name": "stdout",
     "output_type": "stream",
     "text": [
      "2\n",
      "5\n",
      "8\n",
      "11\n",
      "14\n",
      "17\n"
     ]
    }
   ],
   "source": [
    "x = range(2,20,3) #3rd case\n",
    "for i in x:\n",
    "    print(i)"
   ]
  },
  {
   "cell_type": "code",
   "execution_count": 1,
   "id": "9826c8dc-61c6-44ff-b332-0269eef98f34",
   "metadata": {},
   "outputs": [
    {
     "name": "stdout",
     "output_type": "stream",
     "text": [
      "20\n",
      "17\n",
      "14\n",
      "11\n",
      "8\n"
     ]
    }
   ],
   "source": [
    "x = range(20,5,-3) #4th case its all about reverse\n",
    "for i in x:\n",
    "    print(i)"
   ]
  },
  {
   "cell_type": "code",
   "execution_count": 2,
   "id": "389bdcd3-b340-48cb-8359-30bf39a510fe",
   "metadata": {},
   "outputs": [],
   "source": [
    "#array [ its like the 'list' data type but it can only stores one kind of value.\n",
    "import array as ar"
   ]
  },
  {
   "cell_type": "code",
   "execution_count": 3,
   "id": "a693e88a-c248-4605-a19a-a4a19175aa02",
   "metadata": {},
   "outputs": [
    {
     "ename": "TypeError",
     "evalue": "array() argument 1 must be a unicode character, not list",
     "output_type": "error",
     "traceback": [
      "\u001b[31m---------------------------------------------------------------------------\u001b[39m",
      "\u001b[31mTypeError\u001b[39m                                 Traceback (most recent call last)",
      "\u001b[36mCell\u001b[39m\u001b[36m \u001b[39m\u001b[32mIn[3]\u001b[39m\u001b[32m, line 1\u001b[39m\n\u001b[32m----> \u001b[39m\u001b[32m1\u001b[39m a = \u001b[43mar\u001b[49m\u001b[43m.\u001b[49m\u001b[43marray\u001b[49m\u001b[43m(\u001b[49m\u001b[43m[\u001b[49m\u001b[32;43m1\u001b[39;49m\u001b[43m,\u001b[49m\u001b[32;43m2\u001b[39;49m\u001b[43m,\u001b[49m\u001b[32;43m3\u001b[39;49m\u001b[43m,\u001b[49m\u001b[32;43m4\u001b[39;49m\u001b[43m]\u001b[49m\u001b[43m)\u001b[49m\n",
      "\u001b[31mTypeError\u001b[39m: array() argument 1 must be a unicode character, not list"
     ]
    }
   ],
   "source": [
    "a = ar.array([1,2,3,4])"
   ]
  },
  {
   "cell_type": "code",
   "execution_count": 5,
   "id": "cba92d99-ef14-4038-8cf6-9f9597abd88c",
   "metadata": {},
   "outputs": [],
   "source": [
    "a = ar.array('i',[1,2,3,4]) # we have to mention the unicode character like this one is integer \"i\""
   ]
  },
  {
   "cell_type": "code",
   "execution_count": 6,
   "id": "27cbb09d-dce4-41f5-bdb8-68d1038f1169",
   "metadata": {},
   "outputs": [
    {
     "data": {
      "text/plain": [
       "array.array"
      ]
     },
     "execution_count": 6,
     "metadata": {},
     "output_type": "execute_result"
    }
   ],
   "source": [
    "type(a)"
   ]
  },
  {
   "cell_type": "code",
   "execution_count": 8,
   "id": "670d9d44-d4c9-4779-b111-d8636634f299",
   "metadata": {},
   "outputs": [],
   "source": [
    "a = ar.array('f',[1,2,3,4])"
   ]
  },
  {
   "cell_type": "code",
   "execution_count": 9,
   "id": "42bba06c-3a87-46f3-876b-d93c6e3ce9a2",
   "metadata": {},
   "outputs": [
    {
     "data": {
      "text/plain": [
       "array.array"
      ]
     },
     "execution_count": 9,
     "metadata": {},
     "output_type": "execute_result"
    }
   ],
   "source": [
    "type(a)"
   ]
  },
  {
   "cell_type": "code",
   "execution_count": 10,
   "id": "3d8e75f2-fe1f-455b-acf4-15bf826bd6ea",
   "metadata": {},
   "outputs": [
    {
     "data": {
      "text/plain": [
       "str"
      ]
     },
     "execution_count": 10,
     "metadata": {},
     "output_type": "execute_result"
    }
   ],
   "source": [
    "#string\n",
    "x = 'data science'\n",
    "type(x)"
   ]
  },
  {
   "cell_type": "code",
   "execution_count": 11,
   "id": "a12e33e6-1249-4bbd-801e-e35f03ef9c2e",
   "metadata": {},
   "outputs": [],
   "source": [
    "x = '''mango\n",
    "coconut\n",
    "orange\n",
    "lemon'''"
   ]
  },
  {
   "cell_type": "code",
   "execution_count": 12,
   "id": "f30c5af8-e899-4889-80e1-b2af4be82689",
   "metadata": {},
   "outputs": [
    {
     "name": "stdout",
     "output_type": "stream",
     "text": [
      "mango\n",
      "coconut\n",
      "orange\n",
      "lemon\n"
     ]
    }
   ],
   "source": [
    "print(x)"
   ]
  },
  {
   "cell_type": "code",
   "execution_count": 13,
   "id": "137ae4b9-cd37-4d40-81d0-b4e302c35c8c",
   "metadata": {},
   "outputs": [
    {
     "data": {
      "text/plain": [
       "set"
      ]
     },
     "execution_count": 13,
     "metadata": {},
     "output_type": "execute_result"
    }
   ],
   "source": [
    "#set\n",
    "s = {1,23,2}\n",
    "type(s)"
   ]
  },
  {
   "cell_type": "code",
   "execution_count": 22,
   "id": "2649600a-d885-49e1-a1dd-934ad3953030",
   "metadata": {},
   "outputs": [],
   "source": [
    "#dictionary _ central data structure\n",
    "\n",
    "dic = {\n",
    "    'varsity': 'PSTU',\n",
    "    'ID': '155548',\n",
    "    'reg': '00028'\n",
    "}"
   ]
  },
  {
   "cell_type": "code",
   "execution_count": 17,
   "id": "def44c28-0531-4651-b119-be758fe629f1",
   "metadata": {},
   "outputs": [
    {
     "name": "stdout",
     "output_type": "stream",
     "text": [
      "{'varsity': 'PSTU', 'ID': '1906048', 'reg': '09128'}\n"
     ]
    }
   ],
   "source": [
    "type(dic)\n",
    "print(dic)"
   ]
  },
  {
   "cell_type": "code",
   "execution_count": 18,
   "id": "7a9f4f3f-5c43-4794-8da5-aeca3fe70682",
   "metadata": {},
   "outputs": [
    {
     "data": {
      "text/plain": [
       "dict"
      ]
     },
     "execution_count": 18,
     "metadata": {},
     "output_type": "execute_result"
    }
   ],
   "source": [
    "type(dic)"
   ]
  },
  {
   "cell_type": "code",
   "execution_count": 23,
   "id": "727ec16e-39a3-40d3-a675-6d84d616034e",
   "metadata": {},
   "outputs": [
    {
     "data": {
      "text/plain": [
       "dict_keys(['varsity', 'ID', 'reg'])"
      ]
     },
     "execution_count": 23,
     "metadata": {},
     "output_type": "execute_result"
    }
   ],
   "source": [
    "dic.keys()"
   ]
  },
  {
   "cell_type": "code",
   "execution_count": 24,
   "id": "d5132f53-71eb-4500-ad45-f35ed97ab094",
   "metadata": {},
   "outputs": [
    {
     "data": {
      "text/plain": [
       "dict_values(['PSTU', '155548', '00028'])"
      ]
     },
     "execution_count": 24,
     "metadata": {},
     "output_type": "execute_result"
    }
   ],
   "source": [
    "dic.values()"
   ]
  },
  {
   "cell_type": "markdown",
   "id": "f80223cc-e3f1-4e6d-9725-285753c58555",
   "metadata": {},
   "source": [
    "Data Frame (Pandas)"
   ]
  },
  {
   "cell_type": "code",
   "execution_count": 8,
   "id": "c1f2b417-5d96-4c9f-abc1-f96c55ba63df",
   "metadata": {},
   "outputs": [
    {
     "name": "stdout",
     "output_type": "stream",
     "text": [
      "Requirement already satisfied: pandas in c:\\users\\hp\\appdata\\local\\programs\\python\\python313\\lib\\site-packages (2.3.2)\n",
      "Requirement already satisfied: numpy>=1.26.0 in c:\\users\\hp\\appdata\\local\\programs\\python\\python313\\lib\\site-packages (from pandas) (2.3.2)\n",
      "Requirement already satisfied: python-dateutil>=2.8.2 in c:\\users\\hp\\appdata\\local\\programs\\python\\python313\\lib\\site-packages (from pandas) (2.9.0.post0)\n",
      "Requirement already satisfied: pytz>=2020.1 in c:\\users\\hp\\appdata\\local\\programs\\python\\python313\\lib\\site-packages (from pandas) (2025.2)\n",
      "Requirement already satisfied: tzdata>=2022.7 in c:\\users\\hp\\appdata\\local\\programs\\python\\python313\\lib\\site-packages (from pandas) (2025.2)\n",
      "Requirement already satisfied: six>=1.5 in c:\\users\\hp\\appdata\\local\\programs\\python\\python313\\lib\\site-packages (from python-dateutil>=2.8.2->pandas) (1.17.0)\n"
     ]
    }
   ],
   "source": [
    "!pip install pandas"
   ]
  },
  {
   "cell_type": "code",
   "execution_count": 3,
   "id": "19576302-e8ca-4617-a39d-6c5ecede1ba3",
   "metadata": {},
   "outputs": [],
   "source": [
    "import pandas as pd\n",
    "df = pd.read_csv('Data Cleaning Start.csv')"
   ]
  },
  {
   "cell_type": "code",
   "execution_count": 4,
   "id": "fae25ab8-2648-452a-a7a4-10086a2099c2",
   "metadata": {},
   "outputs": [
    {
     "data": {
      "text/html": [
       "<div>\n",
       "<style scoped>\n",
       "    .dataframe tbody tr th:only-of-type {\n",
       "        vertical-align: middle;\n",
       "    }\n",
       "\n",
       "    .dataframe tbody tr th {\n",
       "        vertical-align: top;\n",
       "    }\n",
       "\n",
       "    .dataframe thead th {\n",
       "        text-align: right;\n",
       "    }\n",
       "</style>\n",
       "<table border=\"1\" class=\"dataframe\">\n",
       "  <thead>\n",
       "    <tr style=\"text-align: right;\">\n",
       "      <th></th>\n",
       "      <th>Date</th>\n",
       "      <th>Client</th>\n",
       "      <th>Contact</th>\n",
       "      <th>Department</th>\n",
       "      <th>Region</th>\n",
       "      <th>Payment</th>\n",
       "      <th>Revenue</th>\n",
       "      <th>Profit</th>\n",
       "      <th>Profit Margin</th>\n",
       "    </tr>\n",
       "  </thead>\n",
       "  <tbody>\n",
       "    <tr>\n",
       "      <th>0</th>\n",
       "      <td>5/30/2023</td>\n",
       "      <td>amazon.com, inc.</td>\n",
       "      <td>Bill Smith</td>\n",
       "      <td>Cloud Tech</td>\n",
       "      <td>Texas</td>\n",
       "      <td>Transfer</td>\n",
       "      <td>$4,500</td>\n",
       "      <td>$598</td>\n",
       "      <td>13.3%</td>\n",
       "    </tr>\n",
       "    <tr>\n",
       "      <th>1</th>\n",
       "      <td>5/30/2023</td>\n",
       "      <td>tesla, inc.</td>\n",
       "      <td>Ken Singh</td>\n",
       "      <td>Strategy</td>\n",
       "      <td>New York</td>\n",
       "      <td>PayPal</td>\n",
       "      <td>$3,800</td>\n",
       "      <td>$1,045</td>\n",
       "      <td>27.5%</td>\n",
       "    </tr>\n",
       "    <tr>\n",
       "      <th>2</th>\n",
       "      <td>5/30/2023</td>\n",
       "      <td>netflix, inc.</td>\n",
       "      <td>Harley Fritz</td>\n",
       "      <td>Strategy</td>\n",
       "      <td>New York</td>\n",
       "      <td>NaN</td>\n",
       "      <td>$3,713</td>\n",
       "      <td>$1,009</td>\n",
       "      <td>27.2%</td>\n",
       "    </tr>\n",
       "    <tr>\n",
       "      <th>3</th>\n",
       "      <td>5/30/2023</td>\n",
       "      <td>the procter &amp; gamble company</td>\n",
       "      <td>Nyla Novak</td>\n",
       "      <td>Operations</td>\n",
       "      <td>Florida</td>\n",
       "      <td>NaN</td>\n",
       "      <td>NaN</td>\n",
       "      <td>$779</td>\n",
       "      <td>NaN</td>\n",
       "    </tr>\n",
       "    <tr>\n",
       "      <th>4</th>\n",
       "      <td>5/30/2023</td>\n",
       "      <td>the goldman sachs group, inc.</td>\n",
       "      <td>David Rasmussen</td>\n",
       "      <td>Operations</td>\n",
       "      <td>Florida</td>\n",
       "      <td>Check</td>\n",
       "      <td>$5,000</td>\n",
       "      <td>$684</td>\n",
       "      <td>13.7%</td>\n",
       "    </tr>\n",
       "  </tbody>\n",
       "</table>\n",
       "</div>"
      ],
      "text/plain": [
       "        Date                          Client          Contact  Department  \\\n",
       "0  5/30/2023               amazon.com, inc.        Bill Smith  Cloud Tech   \n",
       "1  5/30/2023                    tesla, inc.         Ken Singh    Strategy   \n",
       "2  5/30/2023                  netflix, inc.      Harley Fritz    Strategy   \n",
       "3  5/30/2023   the procter & gamble company        Nyla Novak  Operations   \n",
       "4  5/30/2023  the goldman sachs group, inc.   David Rasmussen  Operations   \n",
       "\n",
       "     Region   Payment  Revenue   Profit Profit Margin  \n",
       "0     Texas  Transfer  $4,500     $598          13.3%  \n",
       "1  New York    PayPal  $3,800   $1,045          27.5%  \n",
       "2  New York       NaN  $3,713   $1,009          27.2%  \n",
       "3   Florida       NaN      NaN    $779            NaN  \n",
       "4   Florida     Check  $5,000     $684          13.7%  "
      ]
     },
     "execution_count": 4,
     "metadata": {},
     "output_type": "execute_result"
    }
   ],
   "source": [
    "df.head()"
   ]
  },
  {
   "cell_type": "code",
   "execution_count": 7,
   "id": "c320528d-07be-42c9-9c54-058ba62cf936",
   "metadata": {},
   "outputs": [
    {
     "data": {
      "text/plain": [
       "(39, 9)"
      ]
     },
     "execution_count": 7,
     "metadata": {},
     "output_type": "execute_result"
    }
   ],
   "source": [
    "df.shape"
   ]
  },
  {
   "cell_type": "code",
   "execution_count": 11,
   "id": "f38d5aa5-7794-4e33-92d5-ba08a1a4cb71",
   "metadata": {},
   "outputs": [
    {
     "name": "stdout",
     "output_type": "stream",
     "text": [
      "<class 'pandas.core.frame.DataFrame'>\n",
      "RangeIndex: 39 entries, 0 to 38\n",
      "Data columns (total 9 columns):\n",
      " #   Column         Non-Null Count  Dtype \n",
      "---  ------         --------------  ----- \n",
      " 0   Date           28 non-null     object\n",
      " 1   Client         28 non-null     object\n",
      " 2   Contact        28 non-null     object\n",
      " 3   Department     28 non-null     object\n",
      " 4   Region         28 non-null     object\n",
      " 5   Payment        26 non-null     object\n",
      " 6   Revenue        26 non-null     object\n",
      " 7   Profit         28 non-null     object\n",
      " 8   Profit Margin  26 non-null     object\n",
      "dtypes: object(9)\n",
      "memory usage: 2.9+ KB\n"
     ]
    }
   ],
   "source": [
    "df.info()"
   ]
  },
  {
   "cell_type": "code",
   "execution_count": 10,
   "id": "b4ef2860-60ef-4fa3-89c0-85134ea62b8a",
   "metadata": {},
   "outputs": [
    {
     "data": {
      "text/html": [
       "<div>\n",
       "<style scoped>\n",
       "    .dataframe tbody tr th:only-of-type {\n",
       "        vertical-align: middle;\n",
       "    }\n",
       "\n",
       "    .dataframe tbody tr th {\n",
       "        vertical-align: top;\n",
       "    }\n",
       "\n",
       "    .dataframe thead th {\n",
       "        text-align: right;\n",
       "    }\n",
       "</style>\n",
       "<table border=\"1\" class=\"dataframe\">\n",
       "  <thead>\n",
       "    <tr style=\"text-align: right;\">\n",
       "      <th></th>\n",
       "      <th>Date</th>\n",
       "      <th>Client</th>\n",
       "      <th>Contact</th>\n",
       "      <th>Department</th>\n",
       "      <th>Region</th>\n",
       "      <th>Payment</th>\n",
       "      <th>Revenue</th>\n",
       "      <th>Profit</th>\n",
       "      <th>Profit Margin</th>\n",
       "    </tr>\n",
       "  </thead>\n",
       "  <tbody>\n",
       "    <tr>\n",
       "      <th>0</th>\n",
       "      <td>5/30/2023</td>\n",
       "      <td>amazon.com, inc.</td>\n",
       "      <td>Bill Smith</td>\n",
       "      <td>Cloud Tech</td>\n",
       "      <td>Texas</td>\n",
       "      <td>Transfer</td>\n",
       "      <td>$4,500</td>\n",
       "      <td>$598</td>\n",
       "      <td>13.3%</td>\n",
       "    </tr>\n",
       "    <tr>\n",
       "      <th>1</th>\n",
       "      <td>5/30/2023</td>\n",
       "      <td>tesla, inc.</td>\n",
       "      <td>Ken Singh</td>\n",
       "      <td>Strategy</td>\n",
       "      <td>New York</td>\n",
       "      <td>PayPal</td>\n",
       "      <td>$3,800</td>\n",
       "      <td>$1,045</td>\n",
       "      <td>27.5%</td>\n",
       "    </tr>\n",
       "    <tr>\n",
       "      <th>2</th>\n",
       "      <td>5/30/2023</td>\n",
       "      <td>netflix, inc.</td>\n",
       "      <td>Harley Fritz</td>\n",
       "      <td>Strategy</td>\n",
       "      <td>New York</td>\n",
       "      <td>NaN</td>\n",
       "      <td>$3,713</td>\n",
       "      <td>$1,009</td>\n",
       "      <td>27.2%</td>\n",
       "    </tr>\n",
       "    <tr>\n",
       "      <th>3</th>\n",
       "      <td>5/30/2023</td>\n",
       "      <td>the procter &amp; gamble company</td>\n",
       "      <td>Nyla Novak</td>\n",
       "      <td>Operations</td>\n",
       "      <td>Florida</td>\n",
       "      <td>NaN</td>\n",
       "      <td>NaN</td>\n",
       "      <td>$779</td>\n",
       "      <td>NaN</td>\n",
       "    </tr>\n",
       "    <tr>\n",
       "      <th>4</th>\n",
       "      <td>5/30/2023</td>\n",
       "      <td>the goldman sachs group, inc.</td>\n",
       "      <td>David Rasmussen</td>\n",
       "      <td>Operations</td>\n",
       "      <td>Florida</td>\n",
       "      <td>Check</td>\n",
       "      <td>$5,000</td>\n",
       "      <td>$684</td>\n",
       "      <td>13.7%</td>\n",
       "    </tr>\n",
       "    <tr>\n",
       "      <th>5</th>\n",
       "      <td>5/31/2023</td>\n",
       "      <td>jpmorgan chase &amp; co.</td>\n",
       "      <td>Ivan Hiney</td>\n",
       "      <td>Cloud Tech</td>\n",
       "      <td>Texas</td>\n",
       "      <td>Transfer</td>\n",
       "      <td>$6,100</td>\n",
       "      <td>$544</td>\n",
       "      <td>8.9%</td>\n",
       "    </tr>\n",
       "    <tr>\n",
       "      <th>6</th>\n",
       "      <td>5/31/2023</td>\n",
       "      <td>morgan stanley</td>\n",
       "      <td>Jonha Ma</td>\n",
       "      <td>Cloud Tech</td>\n",
       "      <td>Texas</td>\n",
       "      <td>Transfer</td>\n",
       "      <td>$4,625</td>\n",
       "      <td>$670</td>\n",
       "      <td>14.5%</td>\n",
       "    </tr>\n",
       "    <tr>\n",
       "      <th>7</th>\n",
       "      <td>5/31/2023</td>\n",
       "      <td>citigroup inc.</td>\n",
       "      <td>Jordan Boone</td>\n",
       "      <td>Cloud Tech</td>\n",
       "      <td>Texas</td>\n",
       "      <td>Transfer</td>\n",
       "      <td>$3,800</td>\n",
       "      <td>$2,045</td>\n",
       "      <td>53.8%</td>\n",
       "    </tr>\n",
       "    <tr>\n",
       "      <th>8</th>\n",
       "      <td>5/31/2023</td>\n",
       "      <td>bank of america corporation</td>\n",
       "      <td>Kylee Townsend</td>\n",
       "      <td>Cloud Tech</td>\n",
       "      <td>Texas</td>\n",
       "      <td>Card</td>\n",
       "      <td>$3,600</td>\n",
       "      <td>$1,564</td>\n",
       "      <td>43.4%</td>\n",
       "    </tr>\n",
       "    <tr>\n",
       "      <th>9</th>\n",
       "      <td>5/31/2023</td>\n",
       "      <td>walmart inc.</td>\n",
       "      <td>Nora Rollins</td>\n",
       "      <td>Cloud Tech</td>\n",
       "      <td>Texas</td>\n",
       "      <td>Check</td>\n",
       "      <td>$5,100</td>\n",
       "      <td>$1,220</td>\n",
       "      <td>23.9%</td>\n",
       "    </tr>\n",
       "    <tr>\n",
       "      <th>10</th>\n",
       "      <td>5/31/2023</td>\n",
       "      <td>target corporation</td>\n",
       "      <td>Brendan Wallace</td>\n",
       "      <td>Cloud Tech</td>\n",
       "      <td>Texas</td>\n",
       "      <td>Check</td>\n",
       "      <td>$4,750</td>\n",
       "      <td>$1,435</td>\n",
       "      <td>30.2%</td>\n",
       "    </tr>\n",
       "    <tr>\n",
       "      <th>11</th>\n",
       "      <td>5/31/2023</td>\n",
       "      <td>costco wholesale corporation</td>\n",
       "      <td>Conor Wise</td>\n",
       "      <td>Operations</td>\n",
       "      <td>Florida</td>\n",
       "      <td>Transfer</td>\n",
       "      <td>$6,000</td>\n",
       "      <td>$998</td>\n",
       "      <td>16.6%</td>\n",
       "    </tr>\n",
       "    <tr>\n",
       "      <th>12</th>\n",
       "      <td>5/31/2023</td>\n",
       "      <td>mcdonald's corporation</td>\n",
       "      <td>Steven Michael</td>\n",
       "      <td>Big Data</td>\n",
       "      <td>California</td>\n",
       "      <td>Check</td>\n",
       "      <td>$4,500</td>\n",
       "      <td>$780</td>\n",
       "      <td>17.3%</td>\n",
       "    </tr>\n",
       "    <tr>\n",
       "      <th>13</th>\n",
       "      <td>6/1/2023</td>\n",
       "      <td>exxon mobil corporation</td>\n",
       "      <td>Lucia Mckay</td>\n",
       "      <td>Big Data</td>\n",
       "      <td>California</td>\n",
       "      <td>Card</td>\n",
       "      <td>NaN</td>\n",
       "      <td>$1,044</td>\n",
       "      <td>NaN</td>\n",
       "    </tr>\n",
       "    <tr>\n",
       "      <th>14</th>\n",
       "      <td>6/1/2023</td>\n",
       "      <td>verizon communications inc.</td>\n",
       "      <td>Jose Roach</td>\n",
       "      <td>Big Data</td>\n",
       "      <td>California</td>\n",
       "      <td>Transfer</td>\n",
       "      <td>$3,713</td>\n",
       "      <td>$1,222</td>\n",
       "      <td>32.9%</td>\n",
       "    </tr>\n",
       "    <tr>\n",
       "      <th>15</th>\n",
       "      <td>6/1/2023</td>\n",
       "      <td>the home depot, inc.</td>\n",
       "      <td>Franklin Wrigt</td>\n",
       "      <td>Big Data</td>\n",
       "      <td>California</td>\n",
       "      <td>Transfer</td>\n",
       "      <td>$4,950</td>\n",
       "      <td>$1,065</td>\n",
       "      <td>21.5%</td>\n",
       "    </tr>\n",
       "    <tr>\n",
       "      <th>16</th>\n",
       "      <td>6/1/2023</td>\n",
       "      <td>cisco systems, inc.</td>\n",
       "      <td>Alia Thornton</td>\n",
       "      <td>Operations</td>\n",
       "      <td>Florida</td>\n",
       "      <td>Transfer</td>\n",
       "      <td>$4,750</td>\n",
       "      <td>$810</td>\n",
       "      <td>17.1%</td>\n",
       "    </tr>\n",
       "    <tr>\n",
       "      <th>17</th>\n",
       "      <td>6/1/2023</td>\n",
       "      <td>chevron corporation</td>\n",
       "      <td>Denzel Flores</td>\n",
       "      <td>Operations</td>\n",
       "      <td>Florida</td>\n",
       "      <td>Transfer</td>\n",
       "      <td>$7,320</td>\n",
       "      <td>$933</td>\n",
       "      <td>12.7%</td>\n",
       "    </tr>\n",
       "    <tr>\n",
       "      <th>18</th>\n",
       "      <td>6/1/2023</td>\n",
       "      <td>at&amp;t inc.</td>\n",
       "      <td>Bruno Cordova</td>\n",
       "      <td>Big Data</td>\n",
       "      <td>California</td>\n",
       "      <td>Transfer</td>\n",
       "      <td>$5,088</td>\n",
       "      <td>$655</td>\n",
       "      <td>12.9%</td>\n",
       "    </tr>\n",
       "    <tr>\n",
       "      <th>19</th>\n",
       "      <td>6/1/2023</td>\n",
       "      <td>intel corporation</td>\n",
       "      <td>Jaylynn Napp</td>\n",
       "      <td>Big Data</td>\n",
       "      <td>California</td>\n",
       "      <td>Transfer</td>\n",
       "      <td>$4,500</td>\n",
       "      <td>$722</td>\n",
       "      <td>16.0%</td>\n",
       "    </tr>\n",
       "    <tr>\n",
       "      <th>20</th>\n",
       "      <td>6/1/2023</td>\n",
       "      <td>general motors company</td>\n",
       "      <td>Bruce Rich</td>\n",
       "      <td>Big Data</td>\n",
       "      <td>California</td>\n",
       "      <td>Card</td>\n",
       "      <td>$4,250</td>\n",
       "      <td>$901</td>\n",
       "      <td>21.2%</td>\n",
       "    </tr>\n",
       "    <tr>\n",
       "      <th>21</th>\n",
       "      <td>6/2/2023</td>\n",
       "      <td>microsoft corporation</td>\n",
       "      <td>Arturo Moore</td>\n",
       "      <td>Big Data</td>\n",
       "      <td>California</td>\n",
       "      <td>PayPal</td>\n",
       "      <td>$5,250</td>\n",
       "      <td>$1,349</td>\n",
       "      <td>25.7%</td>\n",
       "    </tr>\n",
       "    <tr>\n",
       "      <th>22</th>\n",
       "      <td>6/2/2023</td>\n",
       "      <td>comcast corporation</td>\n",
       "      <td>Bryce Carpenter</td>\n",
       "      <td>Strategy</td>\n",
       "      <td>New York</td>\n",
       "      <td>PayPal</td>\n",
       "      <td>$6,500</td>\n",
       "      <td>$1,288</td>\n",
       "      <td>19.8%</td>\n",
       "    </tr>\n",
       "    <tr>\n",
       "      <th>23</th>\n",
       "      <td>6/2/2023</td>\n",
       "      <td>dell technologies inc.</td>\n",
       "      <td>Jaidyn Andersen</td>\n",
       "      <td>Strategy</td>\n",
       "      <td>New York</td>\n",
       "      <td>PayPal</td>\n",
       "      <td>$7,500</td>\n",
       "      <td>$1,664</td>\n",
       "      <td>22.2%</td>\n",
       "    </tr>\n",
       "    <tr>\n",
       "      <th>24</th>\n",
       "      <td>6/2/2023</td>\n",
       "      <td>johnson &amp; johnson</td>\n",
       "      <td>Mark Walm</td>\n",
       "      <td>Strategy</td>\n",
       "      <td>New York</td>\n",
       "      <td>Transfer</td>\n",
       "      <td>$5,500</td>\n",
       "      <td>$1,320</td>\n",
       "      <td>24.0%</td>\n",
       "    </tr>\n",
       "    <tr>\n",
       "      <th>25</th>\n",
       "      <td>6/2/2023</td>\n",
       "      <td>fedex corporation</td>\n",
       "      <td>Harry Lee</td>\n",
       "      <td>Strategy</td>\n",
       "      <td>New York</td>\n",
       "      <td>Transfer</td>\n",
       "      <td>$4,625</td>\n",
       "      <td>$1,001</td>\n",
       "      <td>21.6%</td>\n",
       "    </tr>\n",
       "    <tr>\n",
       "      <th>26</th>\n",
       "      <td>6/2/2023</td>\n",
       "      <td>general electric company</td>\n",
       "      <td>Josh Johnson</td>\n",
       "      <td>Strategy</td>\n",
       "      <td>New York</td>\n",
       "      <td>Transfer</td>\n",
       "      <td>$4,500</td>\n",
       "      <td>$960</td>\n",
       "      <td>21.3%</td>\n",
       "    </tr>\n",
       "    <tr>\n",
       "      <th>27</th>\n",
       "      <td>6/2/2023</td>\n",
       "      <td>lockheed martin corporation</td>\n",
       "      <td>Mik Naam</td>\n",
       "      <td>Strategy</td>\n",
       "      <td>New York</td>\n",
       "      <td>Card</td>\n",
       "      <td>$5,400</td>\n",
       "      <td>$540</td>\n",
       "      <td>10.0%</td>\n",
       "    </tr>\n",
       "  </tbody>\n",
       "</table>\n",
       "</div>"
      ],
      "text/plain": [
       "         Date                          Client          Contact  Department  \\\n",
       "0   5/30/2023               amazon.com, inc.        Bill Smith  Cloud Tech   \n",
       "1   5/30/2023                    tesla, inc.         Ken Singh    Strategy   \n",
       "2   5/30/2023                  netflix, inc.      Harley Fritz    Strategy   \n",
       "3   5/30/2023   the procter & gamble company        Nyla Novak  Operations   \n",
       "4   5/30/2023  the goldman sachs group, inc.   David Rasmussen  Operations   \n",
       "5   5/31/2023           jpmorgan chase & co.        Ivan Hiney  Cloud Tech   \n",
       "6   5/31/2023                 morgan stanley          Jonha Ma  Cloud Tech   \n",
       "7   5/31/2023                 citigroup inc.      Jordan Boone  Cloud Tech   \n",
       "8   5/31/2023    bank of america corporation    Kylee Townsend  Cloud Tech   \n",
       "9   5/31/2023                   walmart inc.      Nora Rollins  Cloud Tech   \n",
       "10  5/31/2023             target corporation   Brendan Wallace  Cloud Tech   \n",
       "11  5/31/2023   costco wholesale corporation        Conor Wise  Operations   \n",
       "12  5/31/2023         mcdonald's corporation    Steven Michael    Big Data   \n",
       "13   6/1/2023        exxon mobil corporation       Lucia Mckay    Big Data   \n",
       "14   6/1/2023    verizon communications inc.        Jose Roach    Big Data   \n",
       "15   6/1/2023           the home depot, inc.    Franklin Wrigt    Big Data   \n",
       "16   6/1/2023            cisco systems, inc.     Alia Thornton  Operations   \n",
       "17   6/1/2023            chevron corporation     Denzel Flores  Operations   \n",
       "18   6/1/2023                      at&t inc.     Bruno Cordova    Big Data   \n",
       "19   6/1/2023              intel corporation      Jaylynn Napp    Big Data   \n",
       "20   6/1/2023         general motors company        Bruce Rich    Big Data   \n",
       "21   6/2/2023          microsoft corporation      Arturo Moore    Big Data   \n",
       "22   6/2/2023            comcast corporation   Bryce Carpenter    Strategy   \n",
       "23   6/2/2023         dell technologies inc.   Jaidyn Andersen    Strategy   \n",
       "24   6/2/2023              johnson & johnson         Mark Walm    Strategy   \n",
       "25   6/2/2023              fedex corporation         Harry Lee    Strategy   \n",
       "26   6/2/2023       general electric company      Josh Johnson    Strategy   \n",
       "27   6/2/2023    lockheed martin corporation          Mik Naam    Strategy   \n",
       "\n",
       "        Region   Payment  Revenue   Profit Profit Margin  \n",
       "0        Texas  Transfer  $4,500     $598          13.3%  \n",
       "1     New York    PayPal  $3,800   $1,045          27.5%  \n",
       "2     New York       NaN  $3,713   $1,009          27.2%  \n",
       "3      Florida       NaN      NaN    $779            NaN  \n",
       "4      Florida     Check  $5,000     $684          13.7%  \n",
       "5        Texas  Transfer  $6,100     $544           8.9%  \n",
       "6        Texas  Transfer  $4,625     $670          14.5%  \n",
       "7        Texas  Transfer  $3,800   $2,045          53.8%  \n",
       "8        Texas      Card  $3,600   $1,564          43.4%  \n",
       "9        Texas     Check  $5,100   $1,220          23.9%  \n",
       "10       Texas     Check  $4,750   $1,435          30.2%  \n",
       "11     Florida  Transfer  $6,000     $998          16.6%  \n",
       "12  California     Check  $4,500     $780          17.3%  \n",
       "13  California      Card      NaN  $1,044            NaN  \n",
       "14  California  Transfer  $3,713   $1,222          32.9%  \n",
       "15  California  Transfer  $4,950   $1,065          21.5%  \n",
       "16     Florida  Transfer  $4,750     $810          17.1%  \n",
       "17     Florida  Transfer  $7,320     $933          12.7%  \n",
       "18  California  Transfer  $5,088     $655          12.9%  \n",
       "19  California  Transfer  $4,500     $722          16.0%  \n",
       "20  California      Card  $4,250     $901          21.2%  \n",
       "21  California    PayPal  $5,250   $1,349          25.7%  \n",
       "22    New York    PayPal  $6,500   $1,288          19.8%  \n",
       "23    New York    PayPal  $7,500   $1,664          22.2%  \n",
       "24    New York  Transfer  $5,500   $1,320          24.0%  \n",
       "25    New York  Transfer  $4,625   $1,001          21.6%  \n",
       "26    New York  Transfer  $4,500     $960          21.3%  \n",
       "27    New York      Card  $5,400     $540          10.0%  "
      ]
     },
     "execution_count": 10,
     "metadata": {},
     "output_type": "execute_result"
    }
   ],
   "source": [
    "df.head(28)"
   ]
  },
  {
   "cell_type": "code",
   "execution_count": 17,
   "id": "3c172626-e0a9-48ff-9536-38c206f23ad2",
   "metadata": {},
   "outputs": [],
   "source": [
    "#Binary types\n",
    "\n",
    "byte_arr = bytearray('ABCDEF','utf-8') # we have to mention the uniform transformation format like \"utf-8\""
   ]
  },
  {
   "cell_type": "code",
   "execution_count": 18,
   "id": "68c0d439-d8a6-4ae8-a71c-c5d0dee967e4",
   "metadata": {},
   "outputs": [
    {
     "data": {
      "text/plain": [
       "bytearray"
      ]
     },
     "execution_count": 18,
     "metadata": {},
     "output_type": "execute_result"
    }
   ],
   "source": [
    "type(byte_arr)"
   ]
  },
  {
   "cell_type": "code",
   "execution_count": 19,
   "id": "3b499eaa-b08b-411b-aa48-f9e2a3849238",
   "metadata": {},
   "outputs": [
    {
     "data": {
      "text/plain": [
       "bytearray(b'ABCDEF')"
      ]
     },
     "execution_count": 19,
     "metadata": {},
     "output_type": "execute_result"
    }
   ],
   "source": [
    "byte_arr"
   ]
  },
  {
   "cell_type": "code",
   "execution_count": 20,
   "id": "b7b65233-7b30-4632-9a2d-6de39db61a70",
   "metadata": {},
   "outputs": [
    {
     "data": {
      "text/plain": [
       "<memory at 0x0000029E52C74580>"
      ]
     },
     "execution_count": 20,
     "metadata": {},
     "output_type": "execute_result"
    }
   ],
   "source": [
    "memoryview(byte_arr)"
   ]
  },
  {
   "cell_type": "code",
   "execution_count": 21,
   "id": "e6ccce77-dbcb-4f34-9fa6-50387a0417a5",
   "metadata": {},
   "outputs": [
    {
     "data": {
      "text/plain": [
       "65"
      ]
     },
     "execution_count": 21,
     "metadata": {},
     "output_type": "execute_result"
    }
   ],
   "source": [
    "memoryview(byte_arr)[0]"
   ]
  },
  {
   "cell_type": "code",
   "execution_count": 22,
   "id": "f5789120-eb19-4973-ace1-bcc893e9ec87",
   "metadata": {},
   "outputs": [],
   "source": [
    "mv = memoryview(byte_arr)\n",
    "mv[0] = 97"
   ]
  },
  {
   "cell_type": "code",
   "execution_count": 23,
   "id": "88e800dc-7cf6-4660-ac59-8ac8da79da39",
   "metadata": {},
   "outputs": [
    {
     "data": {
      "text/plain": [
       "97"
      ]
     },
     "execution_count": 23,
     "metadata": {},
     "output_type": "execute_result"
    }
   ],
   "source": [
    "memoryview(byte_arr)[0]"
   ]
  },
  {
   "cell_type": "code",
   "execution_count": 24,
   "id": "8d415b1f-20d1-4e75-8767-267257d536f5",
   "metadata": {},
   "outputs": [
    {
     "data": {
      "text/plain": [
       "bytearray(b'aBCDEF')"
      ]
     },
     "execution_count": 24,
     "metadata": {},
     "output_type": "execute_result"
    }
   ],
   "source": [
    "byte_arr"
   ]
  },
  {
   "cell_type": "code",
   "execution_count": null,
   "id": "dd364c22-eea0-4026-8ca4-b30b67b11e16",
   "metadata": {},
   "outputs": [],
   "source": []
  }
 ],
 "metadata": {
  "kernelspec": {
   "display_name": "Python 3 (ipykernel)",
   "language": "python",
   "name": "python3"
  },
  "language_info": {
   "codemirror_mode": {
    "name": "ipython",
    "version": 3
   },
   "file_extension": ".py",
   "mimetype": "text/x-python",
   "name": "python",
   "nbconvert_exporter": "python",
   "pygments_lexer": "ipython3",
   "version": "3.13.7"
  }
 },
 "nbformat": 4,
 "nbformat_minor": 5
}
