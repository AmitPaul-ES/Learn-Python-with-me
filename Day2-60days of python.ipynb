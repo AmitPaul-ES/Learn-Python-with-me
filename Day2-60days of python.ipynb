{
 "cells": [
  {
   "cell_type": "markdown",
   "id": "8f1dc4f4-88ea-4c3b-a402-96281cf2d36a",
   "metadata": {},
   "source": [
    "Home task"
   ]
  },
  {
   "cell_type": "code",
   "execution_count": 1,
   "id": "6605ec34-9e31-491b-80b5-3f701b4e0cc6",
   "metadata": {},
   "outputs": [
    {
     "data": {
      "text/plain": [
       "4"
      ]
     },
     "execution_count": 1,
     "metadata": {},
     "output_type": "execute_result"
    }
   ],
   "source": [
    "2+2"
   ]
  },
  {
   "cell_type": "code",
   "execution_count": 2,
   "id": "7d402d40-c822-4804-a7df-1c2739ca8703",
   "metadata": {},
   "outputs": [
    {
     "data": {
      "text/plain": [
       "'data science'"
      ]
     },
     "execution_count": 2,
     "metadata": {},
     "output_type": "execute_result"
    }
   ],
   "source": [
    "'data science' #shift + enter to run & always need the cmd opened"
   ]
  },
  {
   "cell_type": "code",
   "execution_count": 6,
   "id": "b3110e80-9369-495b-af4d-bda9e6552ebe",
   "metadata": {},
   "outputs": [
    {
     "name": "stdout",
     "output_type": "stream",
     "text": [
      "Hello world & welcome to 60 days of python ! "
     ]
    }
   ],
   "source": [
    "print('Hello world' ,'welcome to 60 days of python', sep = ' & ', end = ' ! ') #shift + tab to know the inner function of the code"
   ]
  },
  {
   "cell_type": "code",
   "execution_count": 10,
   "id": "c9fbf500-bf51-4742-a929-a4d4f9b4bd37",
   "metadata": {},
   "outputs": [
    {
     "name": "stdout",
     "output_type": "stream",
     "text": [
      "data science\n",
      "My sentence is data science. "
     ]
    }
   ],
   "source": [
    "var = 'data science' # variable is a container where you can store your data. variable should be start with a letter or an underscore. alphaneumeric characters.\n",
    "print(var)\n",
    "print('My sentence is', var, end = '. ')"
   ]
  },
  {
   "cell_type": "code",
   "execution_count": 11,
   "id": "5ad3949b-6898-4728-bd33-7b5dd47d44fc",
   "metadata": {},
   "outputs": [
    {
     "data": {
      "text/plain": [
       "2214655033200"
      ]
     },
     "execution_count": 11,
     "metadata": {},
     "output_type": "execute_result"
    }
   ],
   "source": [
    "id(var)"
   ]
  },
  {
   "cell_type": "code",
   "execution_count": 12,
   "id": "2d5fa65e-1202-4709-a096-65145e0a5754",
   "metadata": {},
   "outputs": [
    {
     "data": {
      "text/plain": [
       "53"
      ]
     },
     "execution_count": 12,
     "metadata": {},
     "output_type": "execute_result"
    }
   ],
   "source": [
    "import sys #to know how much storage it takes\n",
    "sys.getsizeof(var)"
   ]
  },
  {
   "cell_type": "code",
   "execution_count": 13,
   "id": "1c2585ae-04bf-4452-8d6c-02ae631b0480",
   "metadata": {},
   "outputs": [],
   "source": [
    "x = 100"
   ]
  },
  {
   "cell_type": "code",
   "execution_count": 14,
   "id": "b6f3c544-fca5-4520-aa99-a7dd80cce50a",
   "metadata": {},
   "outputs": [
    {
     "data": {
      "text/plain": [
       "100"
      ]
     },
     "execution_count": 14,
     "metadata": {},
     "output_type": "execute_result"
    }
   ],
   "source": [
    "x"
   ]
  },
  {
   "cell_type": "code",
   "execution_count": 15,
   "id": "20e1725d-13c1-458f-9d85-13cebb602a20",
   "metadata": {},
   "outputs": [],
   "source": [
    "y = 100"
   ]
  },
  {
   "cell_type": "code",
   "execution_count": 16,
   "id": "7e17966d-12fa-4683-97b6-ba6b0f92e37d",
   "metadata": {},
   "outputs": [
    {
     "data": {
      "text/plain": [
       "100"
      ]
     },
     "execution_count": 16,
     "metadata": {},
     "output_type": "execute_result"
    }
   ],
   "source": [
    "y"
   ]
  },
  {
   "cell_type": "code",
   "execution_count": 17,
   "id": "ca033da0-a916-4f56-b65f-2914c415e516",
   "metadata": {},
   "outputs": [
    {
     "data": {
      "text/plain": [
       "140723949764616"
      ]
     },
     "execution_count": 17,
     "metadata": {},
     "output_type": "execute_result"
    }
   ],
   "source": [
    "id(x)"
   ]
  },
  {
   "cell_type": "code",
   "execution_count": 18,
   "id": "af875b45-34e3-4368-87d7-262ba84520ac",
   "metadata": {},
   "outputs": [
    {
     "data": {
      "text/plain": [
       "140723949764616"
      ]
     },
     "execution_count": 18,
     "metadata": {},
     "output_type": "execute_result"
    }
   ],
   "source": [
    "id(y)"
   ]
  },
  {
   "cell_type": "code",
   "execution_count": 19,
   "id": "1ea5e629-4e10-4b74-8d32-5744d3e1f628",
   "metadata": {},
   "outputs": [],
   "source": [
    "x = 1000\n",
    "y = 1000"
   ]
  },
  {
   "cell_type": "code",
   "execution_count": 22,
   "id": "6fe724ce-b85a-4d1b-96d1-aedbe4b2a3da",
   "metadata": {},
   "outputs": [
    {
     "data": {
      "text/plain": [
       "2214670268976"
      ]
     },
     "execution_count": 22,
     "metadata": {},
     "output_type": "execute_result"
    }
   ],
   "source": [
    "id(y)"
   ]
  },
  {
   "cell_type": "code",
   "execution_count": 23,
   "id": "9db1939c-e590-49df-8645-ef4bfd8ccc4f",
   "metadata": {},
   "outputs": [
    {
     "data": {
      "text/plain": [
       "2214670268944"
      ]
     },
     "execution_count": 23,
     "metadata": {},
     "output_type": "execute_result"
    }
   ],
   "source": [
    "id(x)"
   ]
  },
  {
   "cell_type": "code",
   "execution_count": 24,
   "id": "bd72ebf8-f55f-4371-a46e-634c30d2e24b",
   "metadata": {},
   "outputs": [],
   "source": [
    "x,y,z = 10,100,30"
   ]
  },
  {
   "cell_type": "code",
   "execution_count": 25,
   "id": "cf5ce41b-10de-42a7-a781-dd5fb12e1963",
   "metadata": {},
   "outputs": [
    {
     "data": {
      "text/plain": [
       "10"
      ]
     },
     "execution_count": 25,
     "metadata": {},
     "output_type": "execute_result"
    }
   ],
   "source": [
    "x"
   ]
  },
  {
   "cell_type": "code",
   "execution_count": 26,
   "id": "3414c625-edf0-4413-8b50-4a36f088166d",
   "metadata": {},
   "outputs": [],
   "source": [
    "varsity_id = 1906048 #snake case should be choose to call a variable."
   ]
  },
  {
   "cell_type": "code",
   "execution_count": 27,
   "id": "ed268531-137a-49f9-af33-b504e9c91765",
   "metadata": {},
   "outputs": [
    {
     "data": {
      "text/plain": [
       "1906048"
      ]
     },
     "execution_count": 27,
     "metadata": {},
     "output_type": "execute_result"
    }
   ],
   "source": [
    "varsity_id"
   ]
  },
  {
   "cell_type": "markdown",
   "id": "2084b866-4ff1-4402-aedd-265fb29c348b",
   "metadata": {},
   "source": [
    "Global variable ( outside of the function)\n",
    "local variable ( inside the function)"
   ]
  },
  {
   "cell_type": "code",
   "execution_count": 30,
   "id": "0e32d69d-bf87-45fd-8335-fb778ca8bb5f",
   "metadata": {},
   "outputs": [
    {
     "name": "stdout",
     "output_type": "stream",
     "text": [
      "My score is 500."
     ]
    }
   ],
   "source": [
    "x = 1000 #global variable\n",
    "def func1():\n",
    "    x = 500 #local variable. And it has more power than the global variable.\n",
    "    print('My score is', x, end = '.')\n",
    "func1()"
   ]
  },
  {
   "cell_type": "code",
   "execution_count": 35,
   "id": "b8d4bed7-dab9-4a73-97f2-5303e59b20e6",
   "metadata": {},
   "outputs": [
    {
     "name": "stdout",
     "output_type": "stream",
     "text": [
      "My score is : 500\n",
      "My score is : 500\n"
     ]
    }
   ],
   "source": [
    "x = 1000 #global variable\n",
    "def func1():\n",
    "    global x # local variable can be declared as a global one by using this method.\n",
    "    x = 500 #local variable. And it has more power than the global variable.\n",
    "    print('My score is :', x)\n",
    "func1()\n",
    "print('My score is :', x)"
   ]
  },
  {
   "cell_type": "code",
   "execution_count": null,
   "id": "f3a2e3d3-1edd-498b-aed4-ceeb2fb94be5",
   "metadata": {},
   "outputs": [],
   "source": []
  }
 ],
 "metadata": {
  "kernelspec": {
   "display_name": "Python 3 (ipykernel)",
   "language": "python",
   "name": "python3"
  },
  "language_info": {
   "codemirror_mode": {
    "name": "ipython",
    "version": 3
   },
   "file_extension": ".py",
   "mimetype": "text/x-python",
   "name": "python",
   "nbconvert_exporter": "python",
   "pygments_lexer": "ipython3",
   "version": "3.13.7"
  }
 },
 "nbformat": 4,
 "nbformat_minor": 5
}
