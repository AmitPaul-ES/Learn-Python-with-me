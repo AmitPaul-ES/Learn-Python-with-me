{
 "cells": [
  {
   "cell_type": "code",
   "execution_count": 16,
   "id": "9fcac401-0a60-49d4-8352-8ca65fc9cc03",
   "metadata": {},
   "outputs": [],
   "source": [
    "# assigning the variables\n",
    "x = 9\n",
    "y = 5\n",
    "z = 3"
   ]
  },
  {
   "cell_type": "code",
   "execution_count": 17,
   "id": "ab187f6b-1636-4194-80f4-6e6619f4273a",
   "metadata": {},
   "outputs": [
    {
     "data": {
      "text/plain": [
       "14"
      ]
     },
     "execution_count": 17,
     "metadata": {},
     "output_type": "execute_result"
    }
   ],
   "source": [
    "x+y"
   ]
  },
  {
   "cell_type": "code",
   "execution_count": 18,
   "id": "86cf2580-ad66-44fd-a09a-10a07ebdc5dc",
   "metadata": {},
   "outputs": [
    {
     "data": {
      "text/plain": [
       "1.8"
      ]
     },
     "execution_count": 18,
     "metadata": {},
     "output_type": "execute_result"
    }
   ],
   "source": [
    "x/y"
   ]
  },
  {
   "cell_type": "code",
   "execution_count": 19,
   "id": "ca2e5dd0-20bc-42e1-878c-037eae46421b",
   "metadata": {},
   "outputs": [
    {
     "data": {
      "text/plain": [
       "45"
      ]
     },
     "execution_count": 19,
     "metadata": {},
     "output_type": "execute_result"
    }
   ],
   "source": [
    "x*y"
   ]
  },
  {
   "cell_type": "code",
   "execution_count": 20,
   "id": "622f9286-a8e3-4b8d-a6d3-2de5447dc875",
   "metadata": {},
   "outputs": [
    {
     "data": {
      "text/plain": [
       "4"
      ]
     },
     "execution_count": 20,
     "metadata": {},
     "output_type": "execute_result"
    }
   ],
   "source": [
    "x-y"
   ]
  },
  {
   "cell_type": "code",
   "execution_count": 21,
   "id": "a477a80d-4bb4-49f6-9ed1-2284c0077656",
   "metadata": {},
   "outputs": [
    {
     "data": {
      "text/plain": [
       "4"
      ]
     },
     "execution_count": 21,
     "metadata": {},
     "output_type": "execute_result"
    }
   ],
   "source": [
    "x%y"
   ]
  },
  {
   "cell_type": "code",
   "execution_count": 22,
   "id": "3b8f6960-8c62-4d8d-80b1-a5efc57d75d6",
   "metadata": {},
   "outputs": [
    {
     "data": {
      "text/plain": [
       "4"
      ]
     },
     "execution_count": 22,
     "metadata": {},
     "output_type": "execute_result"
    }
   ],
   "source": [
    "2 ** 2"
   ]
  },
  {
   "cell_type": "code",
   "execution_count": 23,
   "id": "f23cb7c0-0da1-468a-8989-019383412b10",
   "metadata": {},
   "outputs": [
    {
     "data": {
      "text/plain": [
       "59049"
      ]
     },
     "execution_count": 23,
     "metadata": {},
     "output_type": "execute_result"
    }
   ],
   "source": [
    "x ** y"
   ]
  },
  {
   "cell_type": "code",
   "execution_count": 27,
   "id": "46f4cfc2-cd36-4dab-bf23-22b74d514a2f",
   "metadata": {},
   "outputs": [
    {
     "data": {
      "text/plain": [
       "1.8"
      ]
     },
     "execution_count": 27,
     "metadata": {},
     "output_type": "execute_result"
    }
   ],
   "source": [
    "x/y"
   ]
  },
  {
   "cell_type": "code",
   "execution_count": 24,
   "id": "217595e3-1ce0-40f2-8057-4b53f637484c",
   "metadata": {},
   "outputs": [
    {
     "data": {
      "text/plain": [
       "1"
      ]
     },
     "execution_count": 24,
     "metadata": {},
     "output_type": "execute_result"
    }
   ],
   "source": [
    "x // y"
   ]
  },
  {
   "cell_type": "code",
   "execution_count": 25,
   "id": "cd2ce50f-1f2c-4999-88a5-93abb138d134",
   "metadata": {},
   "outputs": [
    {
     "data": {
      "text/plain": [
       "1"
      ]
     },
     "execution_count": 25,
     "metadata": {},
     "output_type": "execute_result"
    }
   ],
   "source": [
    "import math\n",
    "math.floor(x/y)"
   ]
  },
  {
   "cell_type": "code",
   "execution_count": 26,
   "id": "d91c0b84-57c5-4841-bd5a-a52f5bc18ccb",
   "metadata": {},
   "outputs": [
    {
     "data": {
      "text/plain": [
       "2"
      ]
     },
     "execution_count": 26,
     "metadata": {},
     "output_type": "execute_result"
    }
   ],
   "source": [
    "math.ceil(x/y)"
   ]
  },
  {
   "cell_type": "markdown",
   "id": "97f40af5-65ee-4049-b1a4-1dce96d0078b",
   "metadata": {},
   "source": [
    "Python identity operator"
   ]
  },
  {
   "cell_type": "code",
   "execution_count": 31,
   "id": "f5a35c0b-fc6d-4849-a297-d43c263de8e3",
   "metadata": {},
   "outputs": [
    {
     "data": {
      "text/plain": [
       "True"
      ]
     },
     "execution_count": 31,
     "metadata": {},
     "output_type": "execute_result"
    }
   ],
   "source": [
    "x = 10\n",
    "y = 10\n",
    "x is y # assign operator"
   ]
  },
  {
   "cell_type": "code",
   "execution_count": 32,
   "id": "6cda4724-7360-4b41-b880-1adf23fdc77c",
   "metadata": {},
   "outputs": [
    {
     "data": {
      "text/plain": [
       "True"
      ]
     },
     "execution_count": 32,
     "metadata": {},
     "output_type": "execute_result"
    }
   ],
   "source": [
    "x == y # comparison operator"
   ]
  },
  {
   "cell_type": "code",
   "execution_count": 33,
   "id": "ffa89294-9c04-4914-bcca-927c8b76a11b",
   "metadata": {},
   "outputs": [],
   "source": [
    "x = 100915\n",
    "y = x\n",
    "z = 100915"
   ]
  },
  {
   "cell_type": "code",
   "execution_count": 34,
   "id": "9edf8df7-51e8-4eef-8266-b30dc77835aa",
   "metadata": {},
   "outputs": [
    {
     "data": {
      "text/plain": [
       "False"
      ]
     },
     "execution_count": 34,
     "metadata": {},
     "output_type": "execute_result"
    }
   ],
   "source": [
    "x is z # cause it actually work on the location of the value. as they are store in different variable thats why it came false."
   ]
  },
  {
   "cell_type": "code",
   "execution_count": 35,
   "id": "004937b9-c570-4156-8f7e-fa7f2a163fcb",
   "metadata": {},
   "outputs": [
    {
     "data": {
      "text/plain": [
       "True"
      ]
     },
     "execution_count": 35,
     "metadata": {},
     "output_type": "execute_result"
    }
   ],
   "source": [
    "x is y"
   ]
  },
  {
   "cell_type": "code",
   "execution_count": 36,
   "id": "60d2f28e-9c26-4bc0-b73a-b7e2b2d27252",
   "metadata": {},
   "outputs": [
    {
     "data": {
      "text/plain": [
       "True"
      ]
     },
     "execution_count": 36,
     "metadata": {},
     "output_type": "execute_result"
    }
   ],
   "source": [
    "x == z  #cause it actually work on the value. as they store same value thats why it came true."
   ]
  },
  {
   "cell_type": "code",
   "execution_count": 37,
   "id": "37b81670-f826-487a-88cc-9c4ff384a63b",
   "metadata": {},
   "outputs": [
    {
     "data": {
      "text/plain": [
       "True"
      ]
     },
     "execution_count": 37,
     "metadata": {},
     "output_type": "execute_result"
    }
   ],
   "source": [
    "x == y"
   ]
  },
  {
   "cell_type": "code",
   "execution_count": 38,
   "id": "977cee62-4503-484c-9146-9cdb2fccf0e2",
   "metadata": {},
   "outputs": [
    {
     "data": {
      "text/plain": [
       "1967713033744"
      ]
     },
     "execution_count": 38,
     "metadata": {},
     "output_type": "execute_result"
    }
   ],
   "source": [
    "id(x)"
   ]
  },
  {
   "cell_type": "code",
   "execution_count": 39,
   "id": "f98452ba-9620-4593-89b9-e91ef0fc6305",
   "metadata": {},
   "outputs": [
    {
     "data": {
      "text/plain": [
       "1967713033904"
      ]
     },
     "execution_count": 39,
     "metadata": {},
     "output_type": "execute_result"
    }
   ],
   "source": [
    "id(z)"
   ]
  },
  {
   "cell_type": "code",
   "execution_count": 40,
   "id": "23c53a52-b6b2-4aff-a659-44b5ff277cec",
   "metadata": {},
   "outputs": [
    {
     "data": {
      "text/plain": [
       "1967713033744"
      ]
     },
     "execution_count": 40,
     "metadata": {},
     "output_type": "execute_result"
    }
   ],
   "source": [
    "id(y)"
   ]
  },
  {
   "cell_type": "code",
   "execution_count": 41,
   "id": "5e2e2141-1853-4d37-ad30-7d74215117d5",
   "metadata": {},
   "outputs": [
    {
     "data": {
      "text/plain": [
       "True"
      ]
     },
     "execution_count": 41,
     "metadata": {},
     "output_type": "execute_result"
    }
   ],
   "source": [
    "x is not z"
   ]
  },
  {
   "cell_type": "code",
   "execution_count": 42,
   "id": "8e7fc0e2-23ec-4adc-b486-9148b81f0216",
   "metadata": {},
   "outputs": [
    {
     "data": {
      "text/plain": [
       "False"
      ]
     },
     "execution_count": 42,
     "metadata": {},
     "output_type": "execute_result"
    }
   ],
   "source": [
    "x is not y"
   ]
  },
  {
   "cell_type": "markdown",
   "id": "7e30c6b9-39f0-4126-a16e-dc9540908138",
   "metadata": {},
   "source": [
    "Membership opeartor"
   ]
  },
  {
   "cell_type": "code",
   "execution_count": 43,
   "id": "b07338e6-1cd6-4828-81b7-1c30f98ad166",
   "metadata": {},
   "outputs": [],
   "source": [
    "list1 = [1,'dfdf',True,23.45,[5,8],(3.5,5,6)]"
   ]
  },
  {
   "cell_type": "code",
   "execution_count": 44,
   "id": "b15b6d6c-0123-43c3-8ef7-0dbf48819ac4",
   "metadata": {},
   "outputs": [
    {
     "data": {
      "text/plain": [
       "True"
      ]
     },
     "execution_count": 44,
     "metadata": {},
     "output_type": "execute_result"
    }
   ],
   "source": [
    "1 in list1"
   ]
  },
  {
   "cell_type": "code",
   "execution_count": 45,
   "id": "681938a3-3c5f-47a7-8f0d-0a1a819e2dda",
   "metadata": {},
   "outputs": [
    {
     "data": {
      "text/plain": [
       "False"
      ]
     },
     "execution_count": 45,
     "metadata": {},
     "output_type": "execute_result"
    }
   ],
   "source": [
    "9 in list1"
   ]
  },
  {
   "cell_type": "code",
   "execution_count": 46,
   "id": "1efab219-5bb4-46f1-94ef-bd5e8cf48653",
   "metadata": {},
   "outputs": [
    {
     "data": {
      "text/plain": [
       "True"
      ]
     },
     "execution_count": 46,
     "metadata": {},
     "output_type": "execute_result"
    }
   ],
   "source": [
    "9 not in list1"
   ]
  },
  {
   "cell_type": "code",
   "execution_count": 47,
   "id": "a91101f1-fcf9-40e5-8a0f-bbf9010243d9",
   "metadata": {},
   "outputs": [
    {
     "data": {
      "text/plain": [
       "True"
      ]
     },
     "execution_count": 47,
     "metadata": {},
     "output_type": "execute_result"
    }
   ],
   "source": [
    "s1 = {1,2,3,4,5}\n",
    "5 in s1"
   ]
  },
  {
   "cell_type": "code",
   "execution_count": 48,
   "id": "e8baba7a-dfd6-4892-9865-d88422de8a68",
   "metadata": {},
   "outputs": [
    {
     "data": {
      "text/plain": [
       "False"
      ]
     },
     "execution_count": 48,
     "metadata": {},
     "output_type": "execute_result"
    }
   ],
   "source": [
    "8 in s1"
   ]
  },
  {
   "cell_type": "code",
   "execution_count": 49,
   "id": "d9793b85-1c4d-447e-ba13-dd4dd2099783",
   "metadata": {},
   "outputs": [],
   "source": [
    "st1 = 'learn python in 60 days'"
   ]
  },
  {
   "cell_type": "code",
   "execution_count": 52,
   "id": "dcbe9c23-c1de-4cd3-b551-3e8145d7b059",
   "metadata": {},
   "outputs": [
    {
     "data": {
      "text/plain": [
       "True"
      ]
     },
     "execution_count": 52,
     "metadata": {},
     "output_type": "execute_result"
    }
   ],
   "source": [
    "'learn' in st1"
   ]
  },
  {
   "cell_type": "code",
   "execution_count": 53,
   "id": "9221a484-8022-49dd-8de8-cc81f2ca75c0",
   "metadata": {},
   "outputs": [
    {
     "data": {
      "text/plain": [
       "False"
      ]
     },
     "execution_count": 53,
     "metadata": {},
     "output_type": "execute_result"
    }
   ],
   "source": [
    "'of' in st1"
   ]
  },
  {
   "cell_type": "markdown",
   "id": "841dca7d-4730-485c-8322-f5f8aa3e5207",
   "metadata": {},
   "source": [
    "python bitwise operator # its only work with binary value"
   ]
  },
  {
   "cell_type": "code",
   "execution_count": 67,
   "id": "de8d23c0-6197-436f-b551-a4a92a1ec015",
   "metadata": {},
   "outputs": [],
   "source": [
    "x = 1010 #10 in decimel\n",
    "y = 101 #5 in decimel"
   ]
  },
  {
   "cell_type": "code",
   "execution_count": 61,
   "id": "750143f5-d8ee-476b-b4f2-0b11dc16c78d",
   "metadata": {},
   "outputs": [
    {
     "data": {
      "text/plain": [
       "1015"
      ]
     },
     "execution_count": 61,
     "metadata": {},
     "output_type": "execute_result"
    }
   ],
   "source": [
    "x |y"
   ]
  },
  {
   "cell_type": "code",
   "execution_count": 62,
   "id": "9c1fcb5d-89c4-4945-a65c-0279f6f0d41e",
   "metadata": {},
   "outputs": [
    {
     "data": {
      "text/plain": [
       "96"
      ]
     },
     "execution_count": 62,
     "metadata": {},
     "output_type": "execute_result"
    }
   ],
   "source": [
    "x & y"
   ]
  },
  {
   "cell_type": "code",
   "execution_count": 68,
   "id": "bd82843a-25c3-416a-a33d-99f30e3bf75f",
   "metadata": {},
   "outputs": [],
   "source": [
    "x = 10\n",
    "y = 5"
   ]
  },
  {
   "cell_type": "code",
   "execution_count": 69,
   "id": "1ea379b3-db15-4c89-8c5b-88abba6c401e",
   "metadata": {},
   "outputs": [
    {
     "data": {
      "text/plain": [
       "15"
      ]
     },
     "execution_count": 69,
     "metadata": {},
     "output_type": "execute_result"
    }
   ],
   "source": [
    "x | y #OR operator"
   ]
  },
  {
   "cell_type": "code",
   "execution_count": 70,
   "id": "2c10d564-136f-4389-a0af-a6c88bc6db3c",
   "metadata": {},
   "outputs": [
    {
     "data": {
      "text/plain": [
       "0"
      ]
     },
     "execution_count": 70,
     "metadata": {},
     "output_type": "execute_result"
    }
   ],
   "source": [
    "x & y # AND operator"
   ]
  },
  {
   "cell_type": "markdown",
   "id": "4f528387-1806-4479-a6e4-fe04ef6818a0",
   "metadata": {},
   "source": [
    "python comparison operator"
   ]
  },
  {
   "cell_type": "code",
   "execution_count": 71,
   "id": "fc3d9816-5510-4a48-9c01-b90d7a149b52",
   "metadata": {},
   "outputs": [
    {
     "data": {
      "text/plain": [
       "True"
      ]
     },
     "execution_count": 71,
     "metadata": {},
     "output_type": "execute_result"
    }
   ],
   "source": [
    "10 == 10"
   ]
  },
  {
   "cell_type": "code",
   "execution_count": 72,
   "id": "b13ade09-3113-45b2-8b56-61428ec93bbc",
   "metadata": {},
   "outputs": [
    {
     "data": {
      "text/plain": [
       "False"
      ]
     },
     "execution_count": 72,
     "metadata": {},
     "output_type": "execute_result"
    }
   ],
   "source": [
    "10 != 10"
   ]
  },
  {
   "cell_type": "code",
   "execution_count": 73,
   "id": "075c540b-33c9-42c6-8622-d457c292b50a",
   "metadata": {},
   "outputs": [
    {
     "data": {
      "text/plain": [
       "True"
      ]
     },
     "execution_count": 73,
     "metadata": {},
     "output_type": "execute_result"
    }
   ],
   "source": [
    "10.5 <= 11"
   ]
  },
  {
   "cell_type": "code",
   "execution_count": 74,
   "id": "32875acc-c46f-4ccc-a274-41a3661bb125",
   "metadata": {},
   "outputs": [
    {
     "data": {
      "text/plain": [
       "False"
      ]
     },
     "execution_count": 74,
     "metadata": {},
     "output_type": "execute_result"
    }
   ],
   "source": [
    "10.5 <= 10"
   ]
  },
  {
   "cell_type": "code",
   "execution_count": 76,
   "id": "39a0352d-28ea-4f78-80ab-9093dbf1307f",
   "metadata": {},
   "outputs": [
    {
     "data": {
      "text/plain": [
       "True"
      ]
     },
     "execution_count": 76,
     "metadata": {},
     "output_type": "execute_result"
    }
   ],
   "source": [
    "10 > 4 or 10 < 5"
   ]
  },
  {
   "cell_type": "code",
   "execution_count": 77,
   "id": "9d5dd7be-7913-4970-9e2a-4087072556dc",
   "metadata": {},
   "outputs": [
    {
     "data": {
      "text/plain": [
       "False"
      ]
     },
     "execution_count": 77,
     "metadata": {},
     "output_type": "execute_result"
    }
   ],
   "source": [
    "10 > 4 and 10 < 5"
   ]
  },
  {
   "cell_type": "code",
   "execution_count": 78,
   "id": "d0b7a0d2-54f4-4ea0-a496-f8943a173eb1",
   "metadata": {},
   "outputs": [
    {
     "data": {
      "text/plain": [
       "True"
      ]
     },
     "execution_count": 78,
     "metadata": {},
     "output_type": "execute_result"
    }
   ],
   "source": [
    "not(10 > 4 and 10 < 5)"
   ]
  },
  {
   "cell_type": "code",
   "execution_count": 82,
   "id": "1bc6af76-db61-4aa2-9e18-370a12bbe754",
   "metadata": {},
   "outputs": [],
   "source": [
    "x = 10\n",
    "x += 4 # x = x+4"
   ]
  },
  {
   "cell_type": "code",
   "execution_count": 81,
   "id": "f73f033e-f5ab-4ef0-a9c0-bba5df487559",
   "metadata": {},
   "outputs": [
    {
     "data": {
      "text/plain": [
       "14"
      ]
     },
     "execution_count": 81,
     "metadata": {},
     "output_type": "execute_result"
    }
   ],
   "source": [
    "x"
   ]
  },
  {
   "cell_type": "code",
   "execution_count": null,
   "id": "23e2e6bf-1273-48b4-8092-745996e48a11",
   "metadata": {},
   "outputs": [],
   "source": []
  }
 ],
 "metadata": {
  "kernelspec": {
   "display_name": "Python 3 (ipykernel)",
   "language": "python",
   "name": "python3"
  },
  "language_info": {
   "codemirror_mode": {
    "name": "ipython",
    "version": 3
   },
   "file_extension": ".py",
   "mimetype": "text/x-python",
   "name": "python",
   "nbconvert_exporter": "python",
   "pygments_lexer": "ipython3",
   "version": "3.13.7"
  }
 },
 "nbformat": 4,
 "nbformat_minor": 5
}
