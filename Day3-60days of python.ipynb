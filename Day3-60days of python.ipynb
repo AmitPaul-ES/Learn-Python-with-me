{
 "cells": [
  {
   "cell_type": "markdown",
   "id": "1d09732d-8b9e-4bb9-95d2-97d8005be017",
   "metadata": {},
   "source": [
    "input function"
   ]
  },
  {
   "cell_type": "code",
   "execution_count": 1,
   "id": "a1f72a78-0a7c-4dc0-a46e-c713534fc1a3",
   "metadata": {},
   "outputs": [],
   "source": [
    "data = 'data science fun'"
   ]
  },
  {
   "cell_type": "code",
   "execution_count": 2,
   "id": "f933f3f5-a036-4ec8-832f-45ea901936f1",
   "metadata": {},
   "outputs": [
    {
     "name": "stdout",
     "output_type": "stream",
     "text": [
      "data science fun\n"
     ]
    }
   ],
   "source": [
    "print(data)"
   ]
  },
  {
   "cell_type": "code",
   "execution_count": 3,
   "id": "a8ae6335-ec7a-45c5-8385-869e57b7175b",
   "metadata": {},
   "outputs": [
    {
     "data": {
      "text/plain": [
       "str"
      ]
     },
     "execution_count": 3,
     "metadata": {},
     "output_type": "execute_result"
    }
   ],
   "source": [
    "type(data)"
   ]
  },
  {
   "cell_type": "code",
   "execution_count": 4,
   "id": "e3f75be6-034e-4cdf-ad55-59c0535230b4",
   "metadata": {},
   "outputs": [
    {
     "data": {
      "text/plain": [
       "'data science fun'"
      ]
     },
     "execution_count": 4,
     "metadata": {},
     "output_type": "execute_result"
    }
   ],
   "source": [
    "data"
   ]
  },
  {
   "cell_type": "code",
   "execution_count": 19,
   "id": "e42c8d73-3b11-44a2-b9bd-c9fee387998e",
   "metadata": {},
   "outputs": [
    {
     "name": "stdin",
     "output_type": "stream",
     "text": [
      " 10\n",
      " 20\n"
     ]
    }
   ],
   "source": [
    "x = input()\n",
    "y = input()"
   ]
  },
  {
   "cell_type": "code",
   "execution_count": 20,
   "id": "cad20794-e24d-4ae5-b107-8af9c363cdb1",
   "metadata": {},
   "outputs": [
    {
     "data": {
      "text/plain": [
       "'1020'"
      ]
     },
     "execution_count": 20,
     "metadata": {},
     "output_type": "execute_result"
    }
   ],
   "source": [
    "x + y"
   ]
  },
  {
   "cell_type": "code",
   "execution_count": 21,
   "id": "1e779186-d53d-40e6-b6fa-a8b9a5697ded",
   "metadata": {},
   "outputs": [],
   "source": [
    "x = int(x)\n",
    "y = int(y)"
   ]
  },
  {
   "cell_type": "code",
   "execution_count": 22,
   "id": "6d4e558b-8e5d-46e2-8a13-d9ef241b7389",
   "metadata": {},
   "outputs": [
    {
     "data": {
      "text/plain": [
       "30"
      ]
     },
     "execution_count": 22,
     "metadata": {},
     "output_type": "execute_result"
    }
   ],
   "source": [
    "x+y"
   ]
  },
  {
   "cell_type": "code",
   "execution_count": 24,
   "id": "94a23afc-4102-48b2-9bc2-bb424e57de30",
   "metadata": {},
   "outputs": [
    {
     "data": {
      "text/plain": [
       "int"
      ]
     },
     "execution_count": 24,
     "metadata": {},
     "output_type": "execute_result"
    }
   ],
   "source": [
    "type(x)"
   ]
  },
  {
   "cell_type": "code",
   "execution_count": 28,
   "id": "ba689da9-9576-4067-aefb-b638ac22c998",
   "metadata": {},
   "outputs": [
    {
     "name": "stdin",
     "output_type": "stream",
     "text": [
      "Enter your value:  5.6\n"
     ]
    },
    {
     "name": "stdout",
     "output_type": "stream",
     "text": [
      "5.6\n"
     ]
    }
   ],
   "source": [
    "x = float(input(\"Enter your value: \"))\n",
    "print(x)"
   ]
  },
  {
   "cell_type": "code",
   "execution_count": 29,
   "id": "83e7ddb0-3e23-4041-b834-1d4e3252b944",
   "metadata": {},
   "outputs": [
    {
     "name": "stdin",
     "output_type": "stream",
     "text": [
      "Enter your value:  344\n"
     ]
    }
   ],
   "source": [
    "y = float(input(\"Enter your value: \"))"
   ]
  },
  {
   "cell_type": "code",
   "execution_count": 30,
   "id": "f06830d8-64b8-4a54-87b7-abb1f6fbd160",
   "metadata": {},
   "outputs": [
    {
     "data": {
      "text/plain": [
       "344.0"
      ]
     },
     "execution_count": 30,
     "metadata": {},
     "output_type": "execute_result"
    }
   ],
   "source": [
    "y"
   ]
  },
  {
   "cell_type": "code",
   "execution_count": 31,
   "id": "0c709916-256d-4def-9051-c0bb4d4f9fca",
   "metadata": {},
   "outputs": [
    {
     "data": {
      "text/plain": [
       "349.6"
      ]
     },
     "execution_count": 31,
     "metadata": {},
     "output_type": "execute_result"
    }
   ],
   "source": [
    "x + y"
   ]
  },
  {
   "cell_type": "code",
   "execution_count": 32,
   "id": "27a50589-0b2f-4be5-bf20-c2d85d935792",
   "metadata": {},
   "outputs": [],
   "source": [
    "data = '60 days of python'"
   ]
  },
  {
   "cell_type": "code",
   "execution_count": 33,
   "id": "95734965-8c67-4fd4-92e8-0858bd9a6923",
   "metadata": {},
   "outputs": [
    {
     "data": {
      "text/plain": [
       "str"
      ]
     },
     "execution_count": 33,
     "metadata": {},
     "output_type": "execute_result"
    }
   ],
   "source": [
    "type(data)"
   ]
  },
  {
   "cell_type": "code",
   "execution_count": 34,
   "id": "7e1764c8-873c-44ef-9f61-854f16ba6121",
   "metadata": {},
   "outputs": [
    {
     "data": {
      "text/plain": [
       "17"
      ]
     },
     "execution_count": 34,
     "metadata": {},
     "output_type": "execute_result"
    }
   ],
   "source": [
    "len(data)"
   ]
  },
  {
   "cell_type": "code",
   "execution_count": 35,
   "id": "21208477-a619-4e8e-a7ca-faa8164bcc38",
   "metadata": {},
   "outputs": [
    {
     "data": {
      "text/plain": [
       "58"
      ]
     },
     "execution_count": 35,
     "metadata": {},
     "output_type": "execute_result"
    }
   ],
   "source": [
    "import sys\n",
    "sys.getsizeof(data)"
   ]
  },
  {
   "cell_type": "code",
   "execution_count": 38,
   "id": "97ab0652-1f83-45d4-b261-bd82b6142049",
   "metadata": {},
   "outputs": [
    {
     "data": {
      "text/plain": [
       "1"
      ]
     },
     "execution_count": 38,
     "metadata": {},
     "output_type": "execute_result"
    }
   ],
   "source": [
    "data.count('python')"
   ]
  },
  {
   "cell_type": "code",
   "execution_count": 39,
   "id": "eb8cb6d1-4220-4799-b1a3-6e0dd3069c12",
   "metadata": {},
   "outputs": [],
   "source": [
    "sub = 'days of'"
   ]
  },
  {
   "cell_type": "code",
   "execution_count": 40,
   "id": "5498623e-9ef2-4cbd-b471-2039dd48bca1",
   "metadata": {},
   "outputs": [
    {
     "data": {
      "text/plain": [
       "1"
      ]
     },
     "execution_count": 40,
     "metadata": {},
     "output_type": "execute_result"
    }
   ],
   "source": [
    "data.count(sub)"
   ]
  },
  {
   "cell_type": "markdown",
   "id": "c12a6199-24de-4269-9e18-b9e6d67094cb",
   "metadata": {},
   "source": [
    "Python string methods"
   ]
  },
  {
   "cell_type": "code",
   "execution_count": 2,
   "id": "32f21699-5078-48d4-a9a1-e21dfdcdd9ef",
   "metadata": {},
   "outputs": [
    {
     "data": {
      "text/plain": [
       "8"
      ]
     },
     "execution_count": 2,
     "metadata": {},
     "output_type": "execute_result"
    }
   ],
   "source": [
    "data = '60 days of Python'\n",
    "data.find('of')  # to find something on the string"
   ]
  },
  {
   "cell_type": "code",
   "execution_count": 3,
   "id": "0881c912-8d81-4350-8ecd-2cf0624867a8",
   "metadata": {},
   "outputs": [
    {
     "data": {
      "text/plain": [
       "9"
      ]
     },
     "execution_count": 3,
     "metadata": {},
     "output_type": "execute_result"
    }
   ],
   "source": [
    "data.find('f')"
   ]
  },
  {
   "cell_type": "code",
   "execution_count": 8,
   "id": "7bf6da31-041e-406f-a5ca-e740a5120874",
   "metadata": {},
   "outputs": [
    {
     "data": {
      "text/plain": [
       "-1"
      ]
     },
     "execution_count": 8,
     "metadata": {},
     "output_type": "execute_result"
    }
   ],
   "source": [
    "data.find('y',6,10) # as there is no y between the range of 6 to 10 thats why it returns '-1'"
   ]
  },
  {
   "cell_type": "code",
   "execution_count": 9,
   "id": "22e40cbd-3aff-4fec-a60b-c0ca7f8f9a5e",
   "metadata": {},
   "outputs": [
    {
     "data": {
      "text/plain": [
       "12"
      ]
     },
     "execution_count": 9,
     "metadata": {},
     "output_type": "execute_result"
    }
   ],
   "source": [
    "data.find('y',6,15)"
   ]
  },
  {
   "cell_type": "code",
   "execution_count": 10,
   "id": "d800e993-9302-45ca-b1c4-94231c6e8e86",
   "metadata": {},
   "outputs": [
    {
     "data": {
      "text/plain": [
       "9"
      ]
     },
     "execution_count": 10,
     "metadata": {},
     "output_type": "execute_result"
    }
   ],
   "source": [
    "data.index('f')"
   ]
  },
  {
   "cell_type": "code",
   "execution_count": 11,
   "id": "33ae3304-aaaf-459e-b51d-5da03e42f774",
   "metadata": {},
   "outputs": [
    {
     "ename": "ValueError",
     "evalue": "substring not found",
     "output_type": "error",
     "traceback": [
      "\u001b[31m---------------------------------------------------------------------------\u001b[39m",
      "\u001b[31mValueError\u001b[39m                                Traceback (most recent call last)",
      "\u001b[36mCell\u001b[39m\u001b[36m \u001b[39m\u001b[32mIn[11]\u001b[39m\u001b[32m, line 1\u001b[39m\n\u001b[32m----> \u001b[39m\u001b[32m1\u001b[39m \u001b[43mdata\u001b[49m\u001b[43m.\u001b[49m\u001b[43mindex\u001b[49m\u001b[43m(\u001b[49m\u001b[33;43m'\u001b[39;49m\u001b[33;43my\u001b[39;49m\u001b[33;43m'\u001b[39;49m\u001b[43m,\u001b[49m\u001b[32;43m6\u001b[39;49m\u001b[43m,\u001b[49m\u001b[32;43m10\u001b[39;49m\u001b[43m)\u001b[49m\n",
      "\u001b[31mValueError\u001b[39m: substring not found"
     ]
    }
   ],
   "source": [
    "data.index('y',6,10) #as there is no value of y between 6 to 10 thats why it causes a value error for the index function. and this is the only difference between the index and find function to find value on the strings."
   ]
  },
  {
   "cell_type": "code",
   "execution_count": 12,
   "id": "f1272fe2-1000-4c8b-b011-9d9e5c28bf88",
   "metadata": {},
   "outputs": [
    {
     "data": {
      "text/plain": [
       "'60 days of python'"
      ]
     },
     "execution_count": 12,
     "metadata": {},
     "output_type": "execute_result"
    }
   ],
   "source": [
    "data.lower() # convert all char into lower case"
   ]
  },
  {
   "cell_type": "code",
   "execution_count": 13,
   "id": "3a23190b-6c6a-490c-b3b6-36dbd93ed4a3",
   "metadata": {},
   "outputs": [
    {
     "data": {
      "text/plain": [
       "'60 DAYS OF PYTHON'"
      ]
     },
     "execution_count": 13,
     "metadata": {},
     "output_type": "execute_result"
    }
   ],
   "source": [
    "data.upper() # convert all char into upper case"
   ]
  },
  {
   "cell_type": "code",
   "execution_count": 14,
   "id": "a6623225-7e5a-4b7f-9724-05120238c8a6",
   "metadata": {},
   "outputs": [
    {
     "data": {
      "text/plain": [
       "'60 days of python'"
      ]
     },
     "execution_count": 14,
     "metadata": {},
     "output_type": "execute_result"
    }
   ],
   "source": [
    "data.casefold() # convert all char into lower case"
   ]
  },
  {
   "cell_type": "code",
   "execution_count": 15,
   "id": "bcb9ac75-d3cf-48ce-87e7-3a647b273ffa",
   "metadata": {},
   "outputs": [
    {
     "data": {
      "text/plain": [
       "'60 days of python'"
      ]
     },
     "execution_count": 15,
     "metadata": {},
     "output_type": "execute_result"
    }
   ],
   "source": [
    "data.capitalize() #convert only first char into upper case"
   ]
  },
  {
   "cell_type": "code",
   "execution_count": 16,
   "id": "f1082612-797f-4629-9de4-9d8b837e58ee",
   "metadata": {},
   "outputs": [
    {
     "data": {
      "text/plain": [
       "'60 DAYS OF PYTHON'"
      ]
     },
     "execution_count": 16,
     "metadata": {},
     "output_type": "execute_result"
    }
   ],
   "source": [
    "data.swapcase() # to swap all the char to lower or upper"
   ]
  },
  {
   "cell_type": "code",
   "execution_count": 17,
   "id": "ab907cdb-f4c3-4269-b53e-4deaba020010",
   "metadata": {},
   "outputs": [
    {
     "data": {
      "text/plain": [
       "'60 Days Of Python'"
      ]
     },
     "execution_count": 17,
     "metadata": {},
     "output_type": "execute_result"
    }
   ],
   "source": [
    "data.title() # to capitalize the all the words "
   ]
  },
  {
   "cell_type": "code",
   "execution_count": 18,
   "id": "91ecedc2-15c5-41a8-afcc-5fe16292216d",
   "metadata": {},
   "outputs": [
    {
     "data": {
      "text/plain": [
       "True"
      ]
     },
     "execution_count": 18,
     "metadata": {},
     "output_type": "execute_result"
    }
   ],
   "source": [
    "data.islower()"
   ]
  },
  {
   "cell_type": "code",
   "execution_count": 19,
   "id": "75e0316a-b1d8-4675-b7d6-20159026562e",
   "metadata": {},
   "outputs": [
    {
     "data": {
      "text/plain": [
       "False"
      ]
     },
     "execution_count": 19,
     "metadata": {},
     "output_type": "execute_result"
    }
   ],
   "source": [
    "data.isupper()"
   ]
  },
  {
   "cell_type": "code",
   "execution_count": 21,
   "id": "91ac39dc-6c07-4b51-9b8d-2daff3ee786f",
   "metadata": {},
   "outputs": [
    {
     "data": {
      "text/plain": [
       "False"
      ]
     },
     "execution_count": 21,
     "metadata": {},
     "output_type": "execute_result"
    }
   ],
   "source": [
    "data.isdigit()"
   ]
  },
  {
   "cell_type": "code",
   "execution_count": 22,
   "id": "7ad3a663-ff3c-474b-adc6-195608569797",
   "metadata": {},
   "outputs": [
    {
     "data": {
      "text/plain": [
       "b'60 days of python'"
      ]
     },
     "execution_count": 22,
     "metadata": {},
     "output_type": "execute_result"
    }
   ],
   "source": [
    "data.encode()"
   ]
  },
  {
   "cell_type": "code",
   "execution_count": 25,
   "id": "3780b104-a340-4669-a3dd-301fd693cad4",
   "metadata": {},
   "outputs": [
    {
     "data": {
      "text/plain": [
       "bytes"
      ]
     },
     "execution_count": 25,
     "metadata": {},
     "output_type": "execute_result"
    }
   ],
   "source": [
    "type(data.encode())"
   ]
  },
  {
   "cell_type": "code",
   "execution_count": 26,
   "id": "b7d8b755-5091-4b18-aaf7-8901917d3096",
   "metadata": {},
   "outputs": [
    {
     "data": {
      "text/plain": [
       "['60', 'days', 'of', 'python']"
      ]
     },
     "execution_count": 26,
     "metadata": {},
     "output_type": "execute_result"
    }
   ],
   "source": [
    "data.split() #to split each word of the strings"
   ]
  },
  {
   "cell_type": "code",
   "execution_count": 27,
   "id": "459c263e-ff41-4555-bbe0-f428c2c28111",
   "metadata": {},
   "outputs": [
    {
     "data": {
      "text/plain": [
       "'60'"
      ]
     },
     "execution_count": 27,
     "metadata": {},
     "output_type": "execute_result"
    }
   ],
   "source": [
    "data.split()[0]"
   ]
  },
  {
   "cell_type": "code",
   "execution_count": 28,
   "id": "75060359-4a05-45b6-bd65-32ba850a2b7b",
   "metadata": {},
   "outputs": [
    {
     "data": {
      "text/plain": [
       "'days'"
      ]
     },
     "execution_count": 28,
     "metadata": {},
     "output_type": "execute_result"
    }
   ],
   "source": [
    "data.split()[1]"
   ]
  },
  {
   "cell_type": "code",
   "execution_count": 29,
   "id": "3a7860a0-3547-4505-8469-369c898bfba2",
   "metadata": {},
   "outputs": [
    {
     "data": {
      "text/plain": [
       "'                60 days of python                 '"
      ]
     },
     "execution_count": 29,
     "metadata": {},
     "output_type": "execute_result"
    }
   ],
   "source": [
    "data.center(50)"
   ]
  },
  {
   "cell_type": "code",
   "execution_count": 31,
   "id": "6b54933c-8169-40f8-910d-bb0a52786115",
   "metadata": {},
   "outputs": [
    {
     "data": {
      "text/plain": [
       "'50 days of python'"
      ]
     },
     "execution_count": 31,
     "metadata": {},
     "output_type": "execute_result"
    }
   ],
   "source": [
    "data.replace('60','50')"
   ]
  },
  {
   "cell_type": "code",
   "execution_count": 34,
   "id": "8be5c540-b7a5-4749-a334-c8be9a6799a8",
   "metadata": {},
   "outputs": [
    {
     "name": "stdout",
     "output_type": "stream",
     "text": [
      "1000\n",
      "I have 1000 taka.\n"
     ]
    }
   ],
   "source": [
    "x = 10\n",
    "y = 100\n",
    "z = x*y\n",
    "print(z)\n",
    "print('I have',z, 'taka.')"
   ]
  },
  {
   "cell_type": "code",
   "execution_count": 36,
   "id": "b9b8bd8a-e073-4084-95a7-72df279a3cfc",
   "metadata": {},
   "outputs": [
    {
     "name": "stdout",
     "output_type": "stream",
     "text": [
      "I have 1000 taka\n"
     ]
    }
   ],
   "source": [
    "print('I have {} taka'.format(z)) # to format the strings"
   ]
  },
  {
   "cell_type": "code",
   "execution_count": null,
   "id": "dabeb593-5f4e-4bd0-bf3b-828068bb0a4c",
   "metadata": {},
   "outputs": [],
   "source": []
  }
 ],
 "metadata": {
  "kernelspec": {
   "display_name": "Python 3 (ipykernel)",
   "language": "python",
   "name": "python3"
  },
  "language_info": {
   "codemirror_mode": {
    "name": "ipython",
    "version": 3
   },
   "file_extension": ".py",
   "mimetype": "text/x-python",
   "name": "python",
   "nbconvert_exporter": "python",
   "pygments_lexer": "ipython3",
   "version": "3.13.7"
  }
 },
 "nbformat": 4,
 "nbformat_minor": 5
}
